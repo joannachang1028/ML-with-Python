{
 "cells": [
  {
   "cell_type": "markdown",
   "metadata": {},
   "source": [
    "### 90-803 Machine Learning Foundations\n",
    "#### Spring 2025\n",
    "#### Lab 05: my_confusion_matrix\n",
    "\n",
    "### Name: `Joanna Chang`\n",
    "### AndrewID: `joannac2`"
   ]
  },
  {
   "cell_type": "markdown",
   "metadata": {},
   "source": [
    "## Classifying the MNIST digits\n",
    "\n",
    "#### First load the training and test set"
   ]
  },
  {
   "cell_type": "code",
   "execution_count": 3,
   "metadata": {},
   "outputs": [],
   "source": [
    "%run read_all_data.py"
   ]
  },
  {
   "cell_type": "code",
   "execution_count": 4,
   "metadata": {},
   "outputs": [],
   "source": [
    "X_train, y_train = read_all_image_label('train_images.txt', 'train_labels.txt')\n",
    "X_test, y_test = read_all_image_label('test_images.txt', 'test_labels.txt')"
   ]
  },
  {
   "cell_type": "code",
   "execution_count": 4,
   "metadata": {
    "collapsed": false,
    "jupyter": {
     "outputs_hidden": false
    }
   },
   "outputs": [
    {
     "data": {
      "text/plain": [
       "(5000, 1000)"
      ]
     },
     "execution_count": 4,
     "metadata": {},
     "output_type": "execute_result"
    }
   ],
   "source": [
    "(len(X_train), len(X_test))"
   ]
  },
  {
   "cell_type": "code",
   "execution_count": 5,
   "metadata": {},
   "outputs": [
    {
     "data": {
      "text/plain": [
       "5"
      ]
     },
     "execution_count": 5,
     "metadata": {},
     "output_type": "execute_result"
    }
   ],
   "source": [
    "y_train[0]"
   ]
  },
  {
   "cell_type": "code",
   "execution_count": 6,
   "metadata": {},
   "outputs": [
    {
     "data": {
      "text/plain": [
       "['                            ',\n",
       " '                            ',\n",
       " '                            ',\n",
       " '                            ',\n",
       " '                            ',\n",
       " '                +++++##+    ',\n",
       " '        +++++######+###+    ',\n",
       " '       +##########+++++     ',\n",
       " '        #######+##          ',\n",
       " '        +++###  ++          ',\n",
       " '           +#+              ',\n",
       " '           +#+              ',\n",
       " '            +#+             ',\n",
       " '            +##++           ',\n",
       " '             +###++         ',\n",
       " '              ++##++        ',\n",
       " '                +##+        ',\n",
       " '                 ###+       ',\n",
       " '              +++###        ',\n",
       " '            ++#####+        ',\n",
       " '          ++######+         ',\n",
       " '        ++######+           ',\n",
       " '       +######+             ',\n",
       " '    ++######+               ',\n",
       " '    +####++                 ',\n",
       " '                            ',\n",
       " '                            ',\n",
       " '                            ']"
      ]
     },
     "execution_count": 6,
     "metadata": {},
     "output_type": "execute_result"
    }
   ],
   "source": [
    "X_train[0]"
   ]
  },
  {
   "cell_type": "markdown",
   "metadata": {},
   "source": [
    "#### Convert Python lists to numpy arrays"
   ]
  },
  {
   "cell_type": "code",
   "execution_count": 7,
   "metadata": {
    "collapsed": false,
    "jupyter": {
     "outputs_hidden": false
    }
   },
   "outputs": [],
   "source": [
    "import numpy as np\n",
    "y_train_np = np.array(y_train)\n",
    "y_test_np = np.array(y_test)"
   ]
  },
  {
   "cell_type": "code",
   "execution_count": 8,
   "metadata": {},
   "outputs": [],
   "source": [
    "img = X_train[0]"
   ]
  },
  {
   "cell_type": "code",
   "execution_count": 9,
   "metadata": {
    "collapsed": false,
    "jupyter": {
     "outputs_hidden": false
    }
   },
   "outputs": [
    {
     "name": "stdout",
     "output_type": "stream",
     "text": [
      "['                            ',\n",
      " '                            ',\n",
      " '                            ',\n",
      " '                            ',\n",
      " '                            ',\n",
      " '                +++++##+    ',\n",
      " '        +++++######+###+    ',\n",
      " '       +##########+++++     ',\n",
      " '        #######+##          ',\n",
      " '        +++###  ++          ',\n",
      " '           +#+              ',\n",
      " '           +#+              ',\n",
      " '            +#+             ',\n",
      " '            +##++           ',\n",
      " '             +###++         ',\n",
      " '              ++##++        ',\n",
      " '                +##+        ',\n",
      " '                 ###+       ',\n",
      " '              +++###        ',\n",
      " '            ++#####+        ',\n",
      " '          ++######+         ',\n",
      " '        ++######+           ',\n",
      " '       +######+             ',\n",
      " '    ++######+               ',\n",
      " '    +####++                 ',\n",
      " '                            ',\n",
      " '                            ',\n",
      " '                            ']\n"
     ]
    }
   ],
   "source": [
    "from pprint import pprint as pp\n",
    "pp(img)"
   ]
  },
  {
   "cell_type": "code",
   "execution_count": 10,
   "metadata": {
    "collapsed": false,
    "jupyter": {
     "outputs_hidden": false
    }
   },
   "outputs": [],
   "source": [
    "# encode a \"digit\" \n",
    "\n",
    "def char2num(c):\n",
    "    if c==' ':\n",
    "        n = 0\n",
    "    elif c=='+':\n",
    "        n = 1\n",
    "    elif c=='#':\n",
    "        n = 2\n",
    "    else:\n",
    "        print(\"!!!! This should not happen !!!\")\n",
    "    return n\n",
    "        "
   ]
  },
  {
   "cell_type": "code",
   "execution_count": 11,
   "metadata": {
    "collapsed": false,
    "jupyter": {
     "outputs_hidden": false
    }
   },
   "outputs": [
    {
     "data": {
      "text/plain": [
       "[1, 0, 2, 2, 0, 1, 1]"
      ]
     },
     "execution_count": 11,
     "metadata": {},
     "output_type": "execute_result"
    }
   ],
   "source": [
    "[ char2num(c) for c in '+ ## ++']"
   ]
  },
  {
   "cell_type": "code",
   "execution_count": 12,
   "metadata": {},
   "outputs": [
    {
     "data": {
      "text/plain": [
       "'                                                                                                                                                            +++++##+            +++++######+###+           +##########+++++             #######+##                  +++###  ++                     +#+                         +#+                          +#+                         +##++                        +###++                       ++##++                        +##+                         ###+                     +++###                    ++#####+                  ++######+                 ++######+                  +######+                 ++######+                   +####++                                                                                                     '"
      ]
     },
     "execution_count": 12,
     "metadata": {},
     "output_type": "execute_result"
    }
   ],
   "source": [
    "s1 = ''.join(img)\n",
    "s1"
   ]
  },
  {
   "cell_type": "code",
   "execution_count": 13,
   "metadata": {
    "collapsed": false,
    "jupyter": {
     "outputs_hidden": false
    }
   },
   "outputs": [],
   "source": [
    "[ char2num(c) for c in s1];"
   ]
  },
  {
   "cell_type": "code",
   "execution_count": 14,
   "metadata": {
    "collapsed": false,
    "jupyter": {
     "outputs_hidden": false
    }
   },
   "outputs": [],
   "source": [
    "def img2array(img):\n",
    "    s = ''.join(img)\n",
    "    fv = [char2num(c) for c in s]\n",
    "    return fv"
   ]
  },
  {
   "cell_type": "code",
   "execution_count": 15,
   "metadata": {},
   "outputs": [
    {
     "data": {
      "text/plain": [
       "[(1, 4), (2, 5), (3, 6)]"
      ]
     },
     "execution_count": 15,
     "metadata": {},
     "output_type": "execute_result"
    }
   ],
   "source": [
    "list(zip([1,2,3], [4,5,6]))"
   ]
  },
  {
   "cell_type": "code",
   "execution_count": 16,
   "metadata": {
    "collapsed": false,
    "jupyter": {
     "outputs_hidden": false
    }
   },
   "outputs": [],
   "source": [
    "X_train_np = [img2array(img) for img in X_train]\n",
    "X_test_np = [img2array(img) for img  in X_test]"
   ]
  },
  {
   "cell_type": "code",
   "execution_count": 17,
   "metadata": {
    "collapsed": false,
    "jupyter": {
     "outputs_hidden": false
    }
   },
   "outputs": [],
   "source": [
    "from sklearn.naive_bayes import GaussianNB\n",
    "#from sklearn.neighbors import KNeighborsClassifier"
   ]
  },
  {
   "cell_type": "code",
   "execution_count": 18,
   "metadata": {
    "collapsed": false,
    "jupyter": {
     "outputs_hidden": false
    }
   },
   "outputs": [],
   "source": [
    "model = GaussianNB()\n",
    "#model = KNeighborsClassifier()"
   ]
  },
  {
   "cell_type": "code",
   "execution_count": 19,
   "metadata": {
    "collapsed": false,
    "jupyter": {
     "outputs_hidden": false
    }
   },
   "outputs": [],
   "source": [
    "model.fit(X_train_np, y_train_np)\n",
    "predicted = model.predict(X_test_np)\n",
    "expected = y_test_np"
   ]
  },
  {
   "cell_type": "code",
   "execution_count": 20,
   "metadata": {
    "collapsed": false,
    "jupyter": {
     "outputs_hidden": false
    }
   },
   "outputs": [
    {
     "name": "stdout",
     "output_type": "stream",
     "text": [
      "0.509\n",
      "              precision    recall  f1-score   support\n",
      "\n",
      "           0       0.78      0.87      0.82        90\n",
      "           1       0.58      0.98      0.73       108\n",
      "           2       0.77      0.26      0.39       103\n",
      "           3       0.64      0.27      0.38       100\n",
      "           4       0.62      0.17      0.26       107\n",
      "           5       0.50      0.08      0.13        92\n",
      "           6       0.58      0.76      0.66        91\n",
      "           7       0.77      0.25      0.38       106\n",
      "           8       0.29      0.59      0.39       103\n",
      "           9       0.38      0.89      0.53       100\n",
      "\n",
      "    accuracy                           0.51      1000\n",
      "   macro avg       0.59      0.51      0.47      1000\n",
      "weighted avg       0.59      0.51      0.47      1000\n",
      "\n",
      "[[ 78   0   0   0   1   1   4   0   6   0]\n",
      " [  0 106   0   0   0   0   1   0   1   0]\n",
      " [  4  11  27  10   3   0  27   1  19   1]\n",
      " [  3  13   1  27   0   1   6   2  37  10]\n",
      " [  3   3   2   1  18   1   6   0  22  51]\n",
      " [  9   8   2   1   1   7   3   0  51  10]\n",
      " [  0  11   2   0   1   2  69   0   6   0]\n",
      " [  0   8   0   2   2   2   1  27   3  61]\n",
      " [  2  21   1   1   2   0   1   2  61  12]\n",
      " [  1   3   0   0   1   0   0   3   3  89]]\n"
     ]
    }
   ],
   "source": [
    "# Import  metrics\n",
    "from sklearn import metrics\n",
    "\n",
    "# summarize the fit of the model\n",
    "\n",
    "print(metrics.accuracy_score(expected, predicted))\n",
    "print(metrics.classification_report(expected, predicted))\n",
    "print(metrics.confusion_matrix(expected, predicted))"
   ]
  },
  {
   "cell_type": "markdown",
   "metadata": {},
   "source": [
    "### TODO\n",
    "\n",
    "Write `my_confusion_matrix` which works like the builtin `metrics.confusion_matrix`\n",
    " \n",
    "1. Your implementation of `my_confusion_matrix` should be able to handle an arbitrary number of classes\n",
    "2. While the builtin function returns a numpy array, your `my_confusion_matrix` should return \n",
    "a dataframe.  If you then did `df.values` you would get the same answer as the builtin routine\n",
    "3. Similar to the builtin function, place the actuals on the rows and the predicted on the columns\n"
   ]
  },
  {
   "cell_type": "code",
   "execution_count": 28,
   "metadata": {},
   "outputs": [],
   "source": [
    "import pandas as pd\n",
    "\n",
    "def my_confusion_matrix(expected, predicted):\n",
    "    unique_labels = sorted(set(expected) | set(predicted))\n",
    "    matrix = pd.DataFrame(0, index=unique_labels, columns=unique_labels)\n",
    "\n",
    "    for actual, pred in zip(expected, predicted):\n",
    "        matrix.at[actual, pred] += 1\n",
    "\n",
    "    return matrix"
   ]
  },
  {
   "cell_type": "code",
   "execution_count": 35,
   "metadata": {},
   "outputs": [
    {
     "data": {
      "text/html": [
       "<div>\n",
       "<style scoped>\n",
       "    .dataframe tbody tr th:only-of-type {\n",
       "        vertical-align: middle;\n",
       "    }\n",
       "\n",
       "    .dataframe tbody tr th {\n",
       "        vertical-align: top;\n",
       "    }\n",
       "\n",
       "    .dataframe thead th {\n",
       "        text-align: right;\n",
       "    }\n",
       "</style>\n",
       "<table border=\"1\" class=\"dataframe\">\n",
       "  <thead>\n",
       "    <tr style=\"text-align: right;\">\n",
       "      <th>Predicted</th>\n",
       "      <th>0</th>\n",
       "      <th>1</th>\n",
       "      <th>2</th>\n",
       "      <th>3</th>\n",
       "      <th>4</th>\n",
       "      <th>5</th>\n",
       "      <th>6</th>\n",
       "      <th>7</th>\n",
       "      <th>8</th>\n",
       "      <th>9</th>\n",
       "    </tr>\n",
       "    <tr>\n",
       "      <th>Actual</th>\n",
       "      <th></th>\n",
       "      <th></th>\n",
       "      <th></th>\n",
       "      <th></th>\n",
       "      <th></th>\n",
       "      <th></th>\n",
       "      <th></th>\n",
       "      <th></th>\n",
       "      <th></th>\n",
       "      <th></th>\n",
       "    </tr>\n",
       "  </thead>\n",
       "  <tbody>\n",
       "    <tr>\n",
       "      <th>0</th>\n",
       "      <td>78</td>\n",
       "      <td>0</td>\n",
       "      <td>0</td>\n",
       "      <td>0</td>\n",
       "      <td>1</td>\n",
       "      <td>1</td>\n",
       "      <td>4</td>\n",
       "      <td>0</td>\n",
       "      <td>6</td>\n",
       "      <td>0</td>\n",
       "    </tr>\n",
       "    <tr>\n",
       "      <th>1</th>\n",
       "      <td>0</td>\n",
       "      <td>106</td>\n",
       "      <td>0</td>\n",
       "      <td>0</td>\n",
       "      <td>0</td>\n",
       "      <td>0</td>\n",
       "      <td>1</td>\n",
       "      <td>0</td>\n",
       "      <td>1</td>\n",
       "      <td>0</td>\n",
       "    </tr>\n",
       "    <tr>\n",
       "      <th>2</th>\n",
       "      <td>4</td>\n",
       "      <td>11</td>\n",
       "      <td>27</td>\n",
       "      <td>10</td>\n",
       "      <td>3</td>\n",
       "      <td>0</td>\n",
       "      <td>27</td>\n",
       "      <td>1</td>\n",
       "      <td>19</td>\n",
       "      <td>1</td>\n",
       "    </tr>\n",
       "    <tr>\n",
       "      <th>3</th>\n",
       "      <td>3</td>\n",
       "      <td>13</td>\n",
       "      <td>1</td>\n",
       "      <td>27</td>\n",
       "      <td>0</td>\n",
       "      <td>1</td>\n",
       "      <td>6</td>\n",
       "      <td>2</td>\n",
       "      <td>37</td>\n",
       "      <td>10</td>\n",
       "    </tr>\n",
       "    <tr>\n",
       "      <th>4</th>\n",
       "      <td>3</td>\n",
       "      <td>3</td>\n",
       "      <td>2</td>\n",
       "      <td>1</td>\n",
       "      <td>18</td>\n",
       "      <td>1</td>\n",
       "      <td>6</td>\n",
       "      <td>0</td>\n",
       "      <td>22</td>\n",
       "      <td>51</td>\n",
       "    </tr>\n",
       "    <tr>\n",
       "      <th>5</th>\n",
       "      <td>9</td>\n",
       "      <td>8</td>\n",
       "      <td>2</td>\n",
       "      <td>1</td>\n",
       "      <td>1</td>\n",
       "      <td>7</td>\n",
       "      <td>3</td>\n",
       "      <td>0</td>\n",
       "      <td>51</td>\n",
       "      <td>10</td>\n",
       "    </tr>\n",
       "    <tr>\n",
       "      <th>6</th>\n",
       "      <td>0</td>\n",
       "      <td>11</td>\n",
       "      <td>2</td>\n",
       "      <td>0</td>\n",
       "      <td>1</td>\n",
       "      <td>2</td>\n",
       "      <td>69</td>\n",
       "      <td>0</td>\n",
       "      <td>6</td>\n",
       "      <td>0</td>\n",
       "    </tr>\n",
       "    <tr>\n",
       "      <th>7</th>\n",
       "      <td>0</td>\n",
       "      <td>8</td>\n",
       "      <td>0</td>\n",
       "      <td>2</td>\n",
       "      <td>2</td>\n",
       "      <td>2</td>\n",
       "      <td>1</td>\n",
       "      <td>27</td>\n",
       "      <td>3</td>\n",
       "      <td>61</td>\n",
       "    </tr>\n",
       "    <tr>\n",
       "      <th>8</th>\n",
       "      <td>2</td>\n",
       "      <td>21</td>\n",
       "      <td>1</td>\n",
       "      <td>1</td>\n",
       "      <td>2</td>\n",
       "      <td>0</td>\n",
       "      <td>1</td>\n",
       "      <td>2</td>\n",
       "      <td>61</td>\n",
       "      <td>12</td>\n",
       "    </tr>\n",
       "    <tr>\n",
       "      <th>9</th>\n",
       "      <td>1</td>\n",
       "      <td>3</td>\n",
       "      <td>0</td>\n",
       "      <td>0</td>\n",
       "      <td>1</td>\n",
       "      <td>0</td>\n",
       "      <td>0</td>\n",
       "      <td>3</td>\n",
       "      <td>3</td>\n",
       "      <td>89</td>\n",
       "    </tr>\n",
       "  </tbody>\n",
       "</table>\n",
       "</div>"
      ],
      "text/plain": [
       "Predicted   0    1   2   3   4  5   6   7   8   9\n",
       "Actual                                           \n",
       "0          78    0   0   0   1  1   4   0   6   0\n",
       "1           0  106   0   0   0  0   1   0   1   0\n",
       "2           4   11  27  10   3  0  27   1  19   1\n",
       "3           3   13   1  27   0  1   6   2  37  10\n",
       "4           3    3   2   1  18  1   6   0  22  51\n",
       "5           9    8   2   1   1  7   3   0  51  10\n",
       "6           0   11   2   0   1  2  69   0   6   0\n",
       "7           0    8   0   2   2  2   1  27   3  61\n",
       "8           2   21   1   1   2  0   1   2  61  12\n",
       "9           1    3   0   0   1  0   0   3   3  89"
      ]
     },
     "execution_count": 35,
     "metadata": {},
     "output_type": "execute_result"
    }
   ],
   "source": [
    "my_confusion_matrix(expected, predicted)"
   ]
  }
 ],
 "metadata": {
  "kernelspec": {
   "display_name": "base",
   "language": "python",
   "name": "python3"
  },
  "language_info": {
   "codemirror_mode": {
    "name": "ipython",
    "version": 3
   },
   "file_extension": ".py",
   "mimetype": "text/x-python",
   "name": "python",
   "nbconvert_exporter": "python",
   "pygments_lexer": "ipython3",
   "version": "3.12.2"
  }
 },
 "nbformat": 4,
 "nbformat_minor": 4
}
