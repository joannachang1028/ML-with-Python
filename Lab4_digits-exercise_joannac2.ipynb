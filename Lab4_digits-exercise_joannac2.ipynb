{
 "cells": [
  {
   "cell_type": "markdown",
   "metadata": {},
   "source": [
    "### 90-803 Machine Learning Foundations\n",
    "#### Spring 2025\n",
    "#### Lab 04\n",
    "\n",
    "### Name: `Joanna Chang`\n",
    "### AndrewID: `joannac2`"
   ]
  },
  {
   "cell_type": "markdown",
   "metadata": {},
   "source": [
    "## Classifying the MNIST digits\n",
    "\n",
    "#### First load the training and test set"
   ]
  },
  {
   "cell_type": "code",
   "execution_count": 121,
   "metadata": {},
   "outputs": [],
   "source": [
    "%run read_all_data.py"
   ]
  },
  {
   "cell_type": "code",
   "execution_count": 122,
   "metadata": {},
   "outputs": [],
   "source": [
    "X_train, y_train = read_all_image_label('train_images.txt', 'train_labels.txt')\n",
    "X_test, y_test = read_all_image_label('test_images.txt', 'test_labels.txt')\n",
    "\n",
    "# it‘s going to train on 5000 images, and be tested on 1000 images\n"
   ]
  },
  {
   "cell_type": "code",
   "execution_count": 123,
   "metadata": {
    "collapsed": false,
    "jupyter": {
     "outputs_hidden": false
    }
   },
   "outputs": [
    {
     "data": {
      "text/plain": [
       "(5000, 1000)"
      ]
     },
     "execution_count": 123,
     "metadata": {},
     "output_type": "execute_result"
    }
   ],
   "source": [
    "(len(X_train), len(X_test))"
   ]
  },
  {
   "cell_type": "code",
   "execution_count": 124,
   "metadata": {},
   "outputs": [
    {
     "data": {
      "text/plain": [
       "['                            ',\n",
       " '                            ',\n",
       " '                            ',\n",
       " '                            ',\n",
       " '                            ',\n",
       " '                +++++##+    ',\n",
       " '        +++++######+###+    ',\n",
       " '       +##########+++++     ',\n",
       " '        #######+##          ',\n",
       " '        +++###  ++          ',\n",
       " '           +#+              ',\n",
       " '           +#+              ',\n",
       " '            +#+             ',\n",
       " '            +##++           ',\n",
       " '             +###++         ',\n",
       " '              ++##++        ',\n",
       " '                +##+        ',\n",
       " '                 ###+       ',\n",
       " '              +++###        ',\n",
       " '            ++#####+        ',\n",
       " '          ++######+         ',\n",
       " '        ++######+           ',\n",
       " '       +######+             ',\n",
       " '    ++######+               ',\n",
       " '    +####++                 ',\n",
       " '                            ',\n",
       " '                            ',\n",
       " '                            ']"
      ]
     },
     "execution_count": 124,
     "metadata": {},
     "output_type": "execute_result"
    }
   ],
   "source": [
    "X_train[0] #The image is a list"
   ]
  },
  {
   "cell_type": "code",
   "execution_count": 125,
   "metadata": {},
   "outputs": [
    {
     "data": {
      "text/plain": [
       "5"
      ]
     },
     "execution_count": 125,
     "metadata": {},
     "output_type": "execute_result"
    }
   ],
   "source": [
    "y_train[0]"
   ]
  },
  {
   "cell_type": "markdown",
   "metadata": {},
   "source": [
    "#### Convert Python lists to numpy arrays"
   ]
  },
  {
   "cell_type": "code",
   "execution_count": 126,
   "metadata": {
    "collapsed": false,
    "jupyter": {
     "outputs_hidden": false
    }
   },
   "outputs": [],
   "source": [
    "import numpy as np\n",
    "y_train_np = np.array(y_train)\n",
    "y_test_np = np.array(y_test)"
   ]
  },
  {
   "cell_type": "code",
   "execution_count": 181,
   "metadata": {},
   "outputs": [],
   "source": [
    "img = X_train[0]"
   ]
  },
  {
   "cell_type": "code",
   "execution_count": 182,
   "metadata": {},
   "outputs": [
    {
     "data": {
      "text/plain": [
       "28"
      ]
     },
     "execution_count": 182,
     "metadata": {},
     "output_type": "execute_result"
    }
   ],
   "source": [
    "len(img)"
   ]
  },
  {
   "cell_type": "code",
   "execution_count": 183,
   "metadata": {
    "collapsed": false,
    "jupyter": {
     "outputs_hidden": false
    }
   },
   "outputs": [
    {
     "name": "stdout",
     "output_type": "stream",
     "text": [
      "['                            ',\n",
      " '                            ',\n",
      " '                            ',\n",
      " '                            ',\n",
      " '                            ',\n",
      " '                +++++##+    ',\n",
      " '        +++++######+###+    ',\n",
      " '       +##########+++++     ',\n",
      " '        #######+##          ',\n",
      " '        +++###  ++          ',\n",
      " '           +#+              ',\n",
      " '           +#+              ',\n",
      " '            +#+             ',\n",
      " '            +##++           ',\n",
      " '             +###++         ',\n",
      " '              ++##++        ',\n",
      " '                +##+        ',\n",
      " '                 ###+       ',\n",
      " '              +++###        ',\n",
      " '            ++#####+        ',\n",
      " '          ++######+         ',\n",
      " '        ++######+           ',\n",
      " '       +######+             ',\n",
      " '    ++######+               ',\n",
      " '    +####++                 ',\n",
      " '                            ',\n",
      " '                            ',\n",
      " '                            ']\n"
     ]
    }
   ],
   "source": [
    "from pprint import pprint as pp\n",
    "pp(img)"
   ]
  },
  {
   "cell_type": "code",
   "execution_count": 184,
   "metadata": {
    "collapsed": false,
    "jupyter": {
     "outputs_hidden": false
    }
   },
   "outputs": [],
   "source": [
    "# encode a \"digit\", convert it to a number\n",
    "\n",
    "def char2num(c):\n",
    "    if c == ' ':\n",
    "        n = 0\n",
    "    elif c == '+':\n",
    "        n = 1\n",
    "    elif c == '#':\n",
    "        n = 2\n",
    "    else:\n",
    "        print(\"!!!! This should not happen\")\n",
    "    return n\n"
   ]
  },
  {
   "cell_type": "code",
   "execution_count": 185,
   "metadata": {
    "collapsed": false,
    "jupyter": {
     "outputs_hidden": false
    }
   },
   "outputs": [
    {
     "data": {
      "text/plain": [
       "[1, 0, 2, 2, 0, 1, 1]"
      ]
     },
     "execution_count": 185,
     "metadata": {},
     "output_type": "execute_result"
    }
   ],
   "source": [
    "[ char2num(c) for c in '+ ## ++']"
   ]
  },
  {
   "cell_type": "code",
   "execution_count": 187,
   "metadata": {},
   "outputs": [],
   "source": [
    "s1 = ''.join(img) # join the list of strings into a single string"
   ]
  },
  {
   "cell_type": "code",
   "execution_count": 188,
   "metadata": {
    "collapsed": false,
    "jupyter": {
     "outputs_hidden": false
    }
   },
   "outputs": [],
   "source": [
    "[ char2num(c) for c in s1]; # put the semi-colon to suppress the output"
   ]
  },
  {
   "cell_type": "code",
   "execution_count": 145,
   "metadata": {
    "collapsed": false,
    "jupyter": {
     "outputs_hidden": false
    }
   },
   "outputs": [],
   "source": [
    "def img2array(img): # a list of strings to a vector of numbers\n",
    "    return np.array([ char2num(c) for c in s1])"
   ]
  },
  {
   "cell_type": "code",
   "execution_count": null,
   "metadata": {},
   "outputs": [
    {
     "data": {
      "text/plain": [
       "[(1, 4), (2, 5), (3, 6)]"
      ]
     },
     "execution_count": 134,
     "metadata": {},
     "output_type": "execute_result"
    }
   ],
   "source": [
    "list(zip([1,2,3], [4,5,6])) # zip two lists into a list of tuples"
   ]
  },
  {
   "cell_type": "code",
   "execution_count": 135,
   "metadata": {
    "collapsed": false,
    "jupyter": {
     "outputs_hidden": false
    }
   },
   "outputs": [],
   "source": [
    "X_train_np = [img2array(img) for img in X_train]\n",
    "X_test_np = [img2array(img) for img  in X_test]"
   ]
  },
  {
   "cell_type": "code",
   "execution_count": 136,
   "metadata": {
    "collapsed": false,
    "jupyter": {
     "outputs_hidden": false
    }
   },
   "outputs": [],
   "source": [
    "from sklearn.naive_bayes import GaussianNB\n",
    "#from sklearn.neighbors import KNeighborsClassifier"
   ]
  },
  {
   "cell_type": "code",
   "execution_count": 137,
   "metadata": {
    "collapsed": false,
    "jupyter": {
     "outputs_hidden": false
    }
   },
   "outputs": [],
   "source": [
    "model = GaussianNB()\n",
    "#model = KNeighborsClassifier()"
   ]
  },
  {
   "cell_type": "code",
   "execution_count": 138,
   "metadata": {
    "collapsed": false,
    "jupyter": {
     "outputs_hidden": false
    }
   },
   "outputs": [],
   "source": [
    "model.fit(X_train_np, y_train_np)\n",
    "predicted = model.predict(X_test_np) # try it out one the prediction\n",
    "expected = y_test_np"
   ]
  },
  {
   "cell_type": "code",
   "execution_count": 139,
   "metadata": {
    "collapsed": false,
    "jupyter": {
     "outputs_hidden": false
    }
   },
   "outputs": [
    {
     "name": "stdout",
     "output_type": "stream",
     "text": [
      "0.509\n",
      "              precision    recall  f1-score   support\n",
      "\n",
      "           0       0.78      0.87      0.82        90\n",
      "           1       0.58      0.98      0.73       108\n",
      "           2       0.77      0.26      0.39       103\n",
      "           3       0.64      0.27      0.38       100\n",
      "           4       0.62      0.17      0.26       107\n",
      "           5       0.50      0.08      0.13        92\n",
      "           6       0.58      0.76      0.66        91\n",
      "           7       0.77      0.25      0.38       106\n",
      "           8       0.29      0.59      0.39       103\n",
      "           9       0.38      0.89      0.53       100\n",
      "\n",
      "    accuracy                           0.51      1000\n",
      "   macro avg       0.59      0.51      0.47      1000\n",
      "weighted avg       0.59      0.51      0.47      1000\n",
      "\n",
      "[[ 78   0   0   0   1   1   4   0   6   0]\n",
      " [  0 106   0   0   0   0   1   0   1   0]\n",
      " [  4  11  27  10   3   0  27   1  19   1]\n",
      " [  3  13   1  27   0   1   6   2  37  10]\n",
      " [  3   3   2   1  18   1   6   0  22  51]\n",
      " [  9   8   2   1   1   7   3   0  51  10]\n",
      " [  0  11   2   0   1   2  69   0   6   0]\n",
      " [  0   8   0   2   2   2   1  27   3  61]\n",
      " [  2  21   1   1   2   0   1   2  61  12]\n",
      " [  1   3   0   0   1   0   0   3   3  89]]\n"
     ]
    }
   ],
   "source": [
    "# Import  metrics\n",
    "from sklearn import metrics\n",
    "\n",
    "# summarize the fit of the model\n",
    "\n",
    "print(metrics.accuracy_score(expected, predicted))\n",
    "print(metrics.classification_report(expected, predicted))\n",
    "print(metrics.confusion_matrix(expected, predicted))"
   ]
  },
  {
   "cell_type": "code",
   "execution_count": 4,
   "metadata": {},
   "outputs": [
    {
     "ename": "NameError",
     "evalue": "name 'my_confusion_matrix' is not defined",
     "output_type": "error",
     "traceback": [
      "\u001b[0;31m---------------------------------------------------------------------------\u001b[0m",
      "\u001b[0;31mNameError\u001b[0m                                 Traceback (most recent call last)",
      "Cell \u001b[0;32mIn[4], line 1\u001b[0m\n\u001b[0;32m----> 1\u001b[0m my_confusion_matrix(expected, predicted)\n",
      "\u001b[0;31mNameError\u001b[0m: name 'my_confusion_matrix' is not defined"
     ]
    }
   ],
   "source": [
    "my_confusion_matrix(expected, predicted) #.values"
   ]
  },
  {
   "cell_type": "markdown",
   "metadata": {},
   "source": [
    "### TODO 3\n",
    "Redfine img2array to include the class label and re-run the below code. Accuracy should be close to 0.986"
   ]
  },
  {
   "cell_type": "code",
   "execution_count": 248,
   "metadata": {},
   "outputs": [],
   "source": [
    "def img2array(img, label):  # Include label as a parameter\n",
    "    s1 = ''.join(img)  # Join list of strings into a single string\n",
    "    img_array = np.array([char2num(c) for c in s1])  # Convert to numerical array\n",
    "    return np.append(img_array, label)  # Append label to the array\n"
   ]
  },
  {
   "cell_type": "code",
   "execution_count": 249,
   "metadata": {},
   "outputs": [
    {
     "data": {
      "text/plain": [
       "[(1, 4), (2, 5), (3, 6)]"
      ]
     },
     "execution_count": 249,
     "metadata": {},
     "output_type": "execute_result"
    }
   ],
   "source": [
    "list(zip([1,2,3], [4,5,6]))"
   ]
  },
  {
   "cell_type": "code",
   "execution_count": 250,
   "metadata": {},
   "outputs": [],
   "source": [
    "X_train_np = [img2array(img, label) for img, label in zip(X_train, y_train)]\n",
    "X_test_np = [img2array(img, label) for img, label in zip(X_test, y_test)]"
   ]
  },
  {
   "cell_type": "markdown",
   "metadata": {},
   "source": [
    "#### Put the actual lable into the model, then you can get pretty high accuracy"
   ]
  },
  {
   "cell_type": "code",
   "execution_count": 251,
   "metadata": {},
   "outputs": [
    {
     "name": "stdout",
     "output_type": "stream",
     "text": [
      "0.986\n",
      "              precision    recall  f1-score   support\n",
      "\n",
      "           0       1.00      0.99      0.99        90\n",
      "           1       1.00      0.98      0.99       108\n",
      "           2       0.97      1.00      0.99       103\n",
      "           3       0.98      0.99      0.99       100\n",
      "           4       1.00      0.98      0.99       107\n",
      "           5       0.98      0.99      0.98        92\n",
      "           6       0.98      0.99      0.98        91\n",
      "           7       0.97      0.97      0.97       106\n",
      "           8       0.98      0.97      0.98       103\n",
      "           9       1.00      1.00      1.00       100\n",
      "\n",
      "    accuracy                           0.99      1000\n",
      "   macro avg       0.99      0.99      0.99      1000\n",
      "weighted avg       0.99      0.99      0.99      1000\n",
      "\n",
      "[[ 89   0   1   0   0   0   0   0   0   0]\n",
      " [  0 106   2   0   0   0   0   0   0   0]\n",
      " [  0   0 103   0   0   0   0   0   0   0]\n",
      " [  0   0   0  99   0   1   0   0   0   0]\n",
      " [  0   0   0   2 105   0   0   0   0   0]\n",
      " [  0   0   0   0   0  91   1   0   0   0]\n",
      " [  0   0   0   0   0   1  90   0   0   0]\n",
      " [  0   0   0   0   0   0   1 103   2   0]\n",
      " [  0   0   0   0   0   0   0   3 100   0]\n",
      " [  0   0   0   0   0   0   0   0   0 100]]\n"
     ]
    }
   ],
   "source": [
    "model = GaussianNB()\n",
    "\n",
    "model.fit(X_train_np, y_train_np)\n",
    "predicted = model.predict(X_test_np)\n",
    "expected = y_test_np\n",
    "\n",
    "print(metrics.accuracy_score(expected, predicted))\n",
    "print(metrics.classification_report(expected, predicted))\n",
    "print(metrics.confusion_matrix(expected, predicted))"
   ]
  }
 ],
 "metadata": {
  "kernelspec": {
   "display_name": "base",
   "language": "python",
   "name": "python3"
  },
  "language_info": {
   "codemirror_mode": {
    "name": "ipython",
    "version": 3
   },
   "file_extension": ".py",
   "mimetype": "text/x-python",
   "name": "python",
   "nbconvert_exporter": "python",
   "pygments_lexer": "ipython3",
   "version": "3.12.2"
  }
 },
 "nbformat": 4,
 "nbformat_minor": 4
}
