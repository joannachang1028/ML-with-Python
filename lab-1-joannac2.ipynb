{
 "cells": [
  {
   "cell_type": "markdown",
   "id": "f65a1e2a-3cc9-4f85-bc69-37d492eae1aa",
   "metadata": {},
   "source": [
    "# 90-803 Machine Learning Foundations with Python\n",
    "### Spring 2025 / Lab-1  Our Python environment and two ML tools\n",
    "\n",
    "#### Your name: `Joanna Chang`\n",
    "#### Your Andrew Id: `joannac2`"
   ]
  },
  {
   "cell_type": "markdown",
   "id": "9c467266-10da-449d-b429-99b7453a6372",
   "metadata": {},
   "source": [
    "#### Instructions\n",
    "1. Rename this notebook to `lab-1-andrewid.ipynb\n",
    "2. Complete the code for `one_hot_encoding` and `confusion_matrix`\n",
    "3. Submit the notebook via the Canvas box for lab-1"
   ]
  },
  {
   "cell_type": "markdown",
   "id": "8aa26ed1-3bdb-412d-8118-fc7a8292511a",
   "metadata": {},
   "source": [
    "## Problem 1: One Hot Encoding"
   ]
  },
  {
   "cell_type": "markdown",
   "id": "f67c7100-688c-4103-b946-34a55f8f192a",
   "metadata": {},
   "source": [
    "A recommended way of encoding nominal values (e.g, colors, models of cars etc) as numbers is termed one hot encoding.  The idea is simple: if you have 5 nominal values, then each value is encoded by 5 bits, where only 1 bit is set for each unique value. The nominal values are sorted alphabetically before doing the encoding.\n",
    "\n",
    "For example,\n",
    "```\n",
    "> one_hot_encoding(['alpha','beta', 'gamma'])\n",
    "\n",
    "[['beta', [1, 0, 0]], ['alpha', [0, 1, 0]], ['gamma', [0, 0, 1]]]\n",
    "\n",
    "> one_hot_encoding(['ford','honda', 'toyota', 'mazda', 'subaru'])\n",
    "\n",
    "[['honda', [1, 0, 0, 0, 0]],\n",
    " ['subaru', [0, 1, 0, 0, 0]],\n",
    " ['mazda', [0, 0, 1, 0, 0]],\n",
    " ['toyota', [0, 0, 0, 1, 0]],\n",
    " ['ford', [0, 0, 0, 0, 1]]]"
   ]
  },
  {
   "cell_type": "code",
   "execution_count": 18,
   "id": "0fb29c7f-4799-42c8-9497-43dd6ca54d4f",
   "metadata": {},
   "outputs": [
    {
     "name": "stdout",
     "output_type": "stream",
     "text": [
      "[['alpha', [1, 0, 0]], ['beta', [0, 1, 0]], ['gamma', [0, 0, 1]]]\n"
     ]
    }
   ],
   "source": [
    "def one_hot_encoding(nominals):\n",
    "    '''\n",
    "    Convert a set of nominals to a set of binary variables\n",
    "    one_hot_encoding(['alpha','beta', 'gamma'] -> \n",
    "    [['alpha', [1, 0, 0]], ['beta', [0, 1, 0]], ['gamma', [0, 0, 1]]]\n",
    "    '''\n",
    "    nominals_sorted = sorted(nominals)  # Sort the categories alphabetically\n",
    "    encoding = {}\n",
    "    \n",
    "    # Generate one-hot encoding \n",
    "    for i in range(len(nominals_sorted)):\n",
    "        one_hot = [0] * len(nominals_sorted)\n",
    "        one_hot[i] = 1  # Set the corresponding position to 1\n",
    "        encoding[nominals_sorted[i]] = one_hot\n",
    "    \n",
    "    # Create the final list with key-value pairs\n",
    "    result = []\n",
    "    for key in nominals_sorted:\n",
    "        result.append([key, encoding[key]])\n",
    "    \n",
    "    return result\n",
    "\n",
    "# Example usage\n",
    "print(one_hot_encoding(['alpha', 'beta', 'gamma']))"
   ]
  },
  {
   "cell_type": "code",
   "execution_count": 19,
   "id": "5e70dbac-c0b4-4ffd-9b47-8d4783c78f21",
   "metadata": {},
   "outputs": [
    {
     "data": {
      "text/plain": [
       "[['ford', [1, 0, 0, 0, 0]],\n",
       " ['honda', [0, 1, 0, 0, 0]],\n",
       " ['mazda', [0, 0, 1, 0, 0]],\n",
       " ['subaru', [0, 0, 0, 1, 0]],\n",
       " ['toyota', [0, 0, 0, 0, 1]]]"
      ]
     },
     "execution_count": 19,
     "metadata": {},
     "output_type": "execute_result"
    }
   ],
   "source": [
    "one_hot_encoding(['ford','honda', 'toyota', 'mazda', 'subaru'])\n",
    "\n"
   ]
  },
  {
   "cell_type": "markdown",
   "id": "b3ce3aec-0bb3-444f-97b4-f156222f6534",
   "metadata": {},
   "source": [
    "### Problem 2: Generating a Confusion Matrix"
   ]
  },
  {
   "cell_type": "code",
   "execution_count": 2,
   "id": "22d421cf-ba69-4aa4-bc45-ba02cf6cb6d7",
   "metadata": {},
   "outputs": [],
   "source": [
    "import random"
   ]
  },
  {
   "cell_type": "code",
   "execution_count": 3,
   "id": "4e53d630-cf30-4540-99b2-bbe152c79a1f",
   "metadata": {},
   "outputs": [],
   "source": [
    "N = 10"
   ]
  },
  {
   "cell_type": "code",
   "execution_count": 4,
   "id": "b53aca89-fa77-45df-a3fe-327eaba6cfb9",
   "metadata": {},
   "outputs": [
    {
     "data": {
      "text/plain": [
       "[0, 1, 1, 0, 0, 1, 1, 1, 0, 0]"
      ]
     },
     "execution_count": 4,
     "metadata": {},
     "output_type": "execute_result"
    }
   ],
   "source": [
    "random.seed(10)\n",
    "actual = [random.choice([0,1]) for i in range(N)]\n",
    "actual"
   ]
  },
  {
   "cell_type": "code",
   "execution_count": 5,
   "id": "07557743-5df1-4a6b-88d7-01ab1e619523",
   "metadata": {
    "scrolled": true
   },
   "outputs": [
    {
     "data": {
      "text/plain": [
       "[1, 1, 1, 1, 0, 1, 0, 1, 0, 0]"
      ]
     },
     "execution_count": 5,
     "metadata": {},
     "output_type": "execute_result"
    }
   ],
   "source": [
    "random.seed(20)\n",
    "def flip(x):\n",
    "    if random.random() > 0.9:\n",
    "        if x==1:\n",
    "            return 0\n",
    "        else:\n",
    "            return 1\n",
    "    else:\n",
    "        return x\n",
    "        \n",
    "predicted = [ flip(x) for x in actual]\n",
    "predicted"
   ]
  },
  {
   "cell_type": "code",
   "execution_count": 6,
   "id": "fb02a18b-7b3b-4347-83de-ac8750961210",
   "metadata": {},
   "outputs": [
    {
     "name": "stdout",
     "output_type": "stream",
     "text": [
      "   1   1   1   1   0   1   0   1   0   0\n",
      "   0   1   1   0   0   1   1   1   0   0\n"
     ]
    }
   ],
   "source": [
    "def show(lst):\n",
    "    for x in lst:\n",
    "        print(\"%4d\" % x, end='')\n",
    "    print()\n",
    "\n",
    "show(predicted)\n",
    "show(actual)\n"
   ]
  },
  {
   "cell_type": "raw",
   "id": "95e0a68c-7066-42e6-b1ad-5a5836c1f347",
   "metadata": {},
   "source": [
    "   1   1   1   1   0   1   0   1   0   0\n",
    "   0   1   1   0   0   1   1   1   0   0\n",
    "  FP  TP  TP  FP  TN   TP FN   TP  TN  TN"
   ]
  },
  {
   "cell_type": "code",
   "execution_count": 15,
   "id": "e5101d87-f1c8-496d-b053-46c77b9a8fca",
   "metadata": {},
   "outputs": [],
   "source": [
    "def confusion_matrix(actual, predicted):\n",
    "    '''\n",
    "    Given the actual values and predicted values generate a confusion matrix\n",
    "               Actual\n",
    "   Predicted   TN  FP\n",
    "               FN  TP\n",
    " \n",
    "        [[ TN  FP] [ FN  TP]]    \n",
    "    '''\n",
    " # Initialize the counts for TN, FP, FN, TP\n",
    "    TN = FP = FN = TP = 0\n",
    "    \n",
    "    # Iterate over the actual and predicted values\n",
    "    for a, p in zip(actual, predicted):\n",
    "        if a == 1 and p == 1:\n",
    "            TP += 1\n",
    "        elif a == 0 and p == 0:\n",
    "            TN += 1\n",
    "        elif a == 1 and p == 0:\n",
    "            FN += 1\n",
    "        elif a == 0 and p == 1:\n",
    "            FP += 1\n",
    "    return [[TN, FP], [FN, TP]]"
   ]
  },
  {
   "cell_type": "code",
   "execution_count": 16,
   "id": "5d5490ff-7d2a-4d4f-ba2c-7a7840e1fb26",
   "metadata": {},
   "outputs": [
    {
     "data": {
      "text/plain": [
       "[[3, 2], [1, 4]]"
      ]
     },
     "execution_count": 16,
     "metadata": {},
     "output_type": "execute_result"
    }
   ],
   "source": [
    "cm = confusion_matrix(actual, predicted )\n",
    "cm"
   ]
  },
  {
   "cell_type": "code",
   "execution_count": 17,
   "id": "2e83fd94-af33-4e9d-9263-110bd8b0d781",
   "metadata": {},
   "outputs": [
    {
     "name": "stdout",
     "output_type": "stream",
     "text": [
      "   3    2\n",
      "   1    4\n"
     ]
    }
   ],
   "source": [
    "def print_confusion_matrix(cm):\n",
    "    (TN, FP), (FN, TP) = cm\n",
    "    print(\"%4d %4d\" % (TN, FP))\n",
    "    print(\"%4d %4d\" % (FN, TP))\n",
    "    \n",
    "print_confusion_matrix(cm)"
   ]
  },
  {
   "cell_type": "code",
   "execution_count": null,
   "id": "36e99fef-cd64-491c-b27b-fe1b64db01e4",
   "metadata": {},
   "outputs": [],
   "source": []
  }
 ],
 "metadata": {
  "kernelspec": {
   "display_name": "base",
   "language": "python",
   "name": "python3"
  },
  "language_info": {
   "codemirror_mode": {
    "name": "ipython",
    "version": 3
   },
   "file_extension": ".py",
   "mimetype": "text/x-python",
   "name": "python",
   "nbconvert_exporter": "python",
   "pygments_lexer": "ipython3",
   "version": "3.12.2"
  }
 },
 "nbformat": 4,
 "nbformat_minor": 5
}
