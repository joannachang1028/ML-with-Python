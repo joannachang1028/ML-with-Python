{
 "cells": [
  {
   "cell_type": "markdown",
   "metadata": {},
   "source": [
    "# 90-803 Machine Learning Foundations with Python\n",
    "### Spring 2025 / Lab03  Classifier Performance Metrics\n",
    "\n",
    "#### Your name: `Joanna Chang`\n",
    "#### Your Andrew Id: `joannac2`"
   ]
  },
  {
   "cell_type": "markdown",
   "metadata": {},
   "source": [
    "In this exercise we will work with the Pima Indians Diabetes dataset.  This data set is \n",
    "[originally](https://archive.ics.uci.edu/ml/datasets/Diabetes) from the \n",
    "[UC-Irvine machine learning repository](https://archive.ics.uci.edu/ml/datasets.php).  \n",
    "We will use a cleaned up version from \n",
    "[Kaggle](https://www.kaggle.com/uciml/pima-indians-diabetes-database).  For convenience I've already downloaded the dataset to the exercise folder. The dataset has the following variables (columns):\n",
    "\n",
    "- Pregnancies\n",
    "- Glucose\n",
    "- BloodPressure\n",
    "- SkinThickness\n",
    "- Insulin\n",
    "- BMI\n",
    "- DiabetesPedigreeFunction\n",
    "- Age\n",
    "- Outcome\n",
    "\n",
    "Spend sometime on the Kaggle site familiarizing yourself with the dataset."
   ]
  },
  {
   "cell_type": "code",
   "execution_count": 1,
   "metadata": {},
   "outputs": [
    {
     "data": {
      "text/html": [
       "<div>\n",
       "<style scoped>\n",
       "    .dataframe tbody tr th:only-of-type {\n",
       "        vertical-align: middle;\n",
       "    }\n",
       "\n",
       "    .dataframe tbody tr th {\n",
       "        vertical-align: top;\n",
       "    }\n",
       "\n",
       "    .dataframe thead th {\n",
       "        text-align: right;\n",
       "    }\n",
       "</style>\n",
       "<table border=\"1\" class=\"dataframe\">\n",
       "  <thead>\n",
       "    <tr style=\"text-align: right;\">\n",
       "      <th></th>\n",
       "      <th>Pregnancies</th>\n",
       "      <th>Glucose</th>\n",
       "      <th>BloodPressure</th>\n",
       "      <th>SkinThickness</th>\n",
       "      <th>Insulin</th>\n",
       "      <th>BMI</th>\n",
       "      <th>DiabetesPedigreeFunction</th>\n",
       "      <th>Age</th>\n",
       "      <th>Outcome</th>\n",
       "    </tr>\n",
       "  </thead>\n",
       "  <tbody>\n",
       "    <tr>\n",
       "      <th>0</th>\n",
       "      <td>6</td>\n",
       "      <td>148</td>\n",
       "      <td>72</td>\n",
       "      <td>35</td>\n",
       "      <td>0</td>\n",
       "      <td>33.6</td>\n",
       "      <td>0.627</td>\n",
       "      <td>50</td>\n",
       "      <td>1</td>\n",
       "    </tr>\n",
       "    <tr>\n",
       "      <th>1</th>\n",
       "      <td>1</td>\n",
       "      <td>85</td>\n",
       "      <td>66</td>\n",
       "      <td>29</td>\n",
       "      <td>0</td>\n",
       "      <td>26.6</td>\n",
       "      <td>0.351</td>\n",
       "      <td>31</td>\n",
       "      <td>0</td>\n",
       "    </tr>\n",
       "    <tr>\n",
       "      <th>2</th>\n",
       "      <td>8</td>\n",
       "      <td>183</td>\n",
       "      <td>64</td>\n",
       "      <td>0</td>\n",
       "      <td>0</td>\n",
       "      <td>23.3</td>\n",
       "      <td>0.672</td>\n",
       "      <td>32</td>\n",
       "      <td>1</td>\n",
       "    </tr>\n",
       "    <tr>\n",
       "      <th>3</th>\n",
       "      <td>1</td>\n",
       "      <td>89</td>\n",
       "      <td>66</td>\n",
       "      <td>23</td>\n",
       "      <td>94</td>\n",
       "      <td>28.1</td>\n",
       "      <td>0.167</td>\n",
       "      <td>21</td>\n",
       "      <td>0</td>\n",
       "    </tr>\n",
       "    <tr>\n",
       "      <th>4</th>\n",
       "      <td>0</td>\n",
       "      <td>137</td>\n",
       "      <td>40</td>\n",
       "      <td>35</td>\n",
       "      <td>168</td>\n",
       "      <td>43.1</td>\n",
       "      <td>2.288</td>\n",
       "      <td>33</td>\n",
       "      <td>1</td>\n",
       "    </tr>\n",
       "  </tbody>\n",
       "</table>\n",
       "</div>"
      ],
      "text/plain": [
       "   Pregnancies  Glucose  BloodPressure  SkinThickness  Insulin   BMI  \\\n",
       "0            6      148             72             35        0  33.6   \n",
       "1            1       85             66             29        0  26.6   \n",
       "2            8      183             64              0        0  23.3   \n",
       "3            1       89             66             23       94  28.1   \n",
       "4            0      137             40             35      168  43.1   \n",
       "\n",
       "   DiabetesPedigreeFunction  Age  Outcome  \n",
       "0                     0.627   50        1  \n",
       "1                     0.351   31        0  \n",
       "2                     0.672   32        1  \n",
       "3                     0.167   21        0  \n",
       "4                     2.288   33        1  "
      ]
     },
     "execution_count": 1,
     "metadata": {},
     "output_type": "execute_result"
    }
   ],
   "source": [
    "import pandas as pd\n",
    "file = 'diabetes.csv'\n",
    "data = pd.read_csv(file)\n",
    "data.head()"
   ]
  },
  {
   "cell_type": "markdown",
   "metadata": {},
   "source": [
    "For the purposes of this exercise, we are going to explore whether we can predict the diabetes status of a patient given the following 4 health measurements?"
   ]
  },
  {
   "cell_type": "code",
   "execution_count": 2,
   "metadata": {},
   "outputs": [],
   "source": [
    "features = ['Pregnancies', 'Insulin', 'BMI', 'Age']\n",
    "X = data[features]\n",
    "y = data.Outcome"
   ]
  },
  {
   "cell_type": "code",
   "execution_count": 3,
   "metadata": {},
   "outputs": [
    {
     "data": {
      "text/plain": [
       "768"
      ]
     },
     "execution_count": 3,
     "metadata": {},
     "output_type": "execute_result"
    }
   ],
   "source": [
    "total_cases = len(data)  # == len(X) == len(y)\n",
    "total_cases"
   ]
  },
  {
   "cell_type": "markdown",
   "metadata": {},
   "source": [
    "There are 768 rows in the data set.  We split them into a _Training data set_ and a _Test data set_ with a scikit function.  If we all use the same value for `random_state` our splits will be the same"
   ]
  },
  {
   "cell_type": "code",
   "execution_count": 4,
   "metadata": {},
   "outputs": [],
   "source": [
    "from sklearn.model_selection import train_test_split\n",
    "\n",
    "X_train, X_test, y_train, y_test = train_test_split(X, y, random_state=2025) # randomly split the data into training and testing sets"
   ]
  },
  {
   "cell_type": "code",
   "execution_count": 8,
   "metadata": {},
   "outputs": [
    {
     "data": {
      "text/plain": [
       "(768, 4)"
      ]
     },
     "execution_count": 8,
     "metadata": {},
     "output_type": "execute_result"
    }
   ],
   "source": [
    "X.shape"
   ]
  },
  {
   "cell_type": "markdown",
   "metadata": {},
   "source": [
    "How can we know the split?\n",
    "-> shift + tab"
   ]
  },
  {
   "cell_type": "markdown",
   "metadata": {},
   "source": [
    "Now, lets use Logistic Regression to classifiy by training it on the `(X_train, y_train)` combo. We will study the details of Logistic Regression later in this course."
   ]
  },
  {
   "cell_type": "code",
   "execution_count": 11,
   "metadata": {},
   "outputs": [
    {
     "data": {
      "text/html": [
       "<style>#sk-container-id-1 {\n",
       "  /* Definition of color scheme common for light and dark mode */\n",
       "  --sklearn-color-text: black;\n",
       "  --sklearn-color-line: gray;\n",
       "  /* Definition of color scheme for unfitted estimators */\n",
       "  --sklearn-color-unfitted-level-0: #fff5e6;\n",
       "  --sklearn-color-unfitted-level-1: #f6e4d2;\n",
       "  --sklearn-color-unfitted-level-2: #ffe0b3;\n",
       "  --sklearn-color-unfitted-level-3: chocolate;\n",
       "  /* Definition of color scheme for fitted estimators */\n",
       "  --sklearn-color-fitted-level-0: #f0f8ff;\n",
       "  --sklearn-color-fitted-level-1: #d4ebff;\n",
       "  --sklearn-color-fitted-level-2: #b3dbfd;\n",
       "  --sklearn-color-fitted-level-3: cornflowerblue;\n",
       "\n",
       "  /* Specific color for light theme */\n",
       "  --sklearn-color-text-on-default-background: var(--sg-text-color, var(--theme-code-foreground, var(--jp-content-font-color1, black)));\n",
       "  --sklearn-color-background: var(--sg-background-color, var(--theme-background, var(--jp-layout-color0, white)));\n",
       "  --sklearn-color-border-box: var(--sg-text-color, var(--theme-code-foreground, var(--jp-content-font-color1, black)));\n",
       "  --sklearn-color-icon: #696969;\n",
       "\n",
       "  @media (prefers-color-scheme: dark) {\n",
       "    /* Redefinition of color scheme for dark theme */\n",
       "    --sklearn-color-text-on-default-background: var(--sg-text-color, var(--theme-code-foreground, var(--jp-content-font-color1, white)));\n",
       "    --sklearn-color-background: var(--sg-background-color, var(--theme-background, var(--jp-layout-color0, #111)));\n",
       "    --sklearn-color-border-box: var(--sg-text-color, var(--theme-code-foreground, var(--jp-content-font-color1, white)));\n",
       "    --sklearn-color-icon: #878787;\n",
       "  }\n",
       "}\n",
       "\n",
       "#sk-container-id-1 {\n",
       "  color: var(--sklearn-color-text);\n",
       "}\n",
       "\n",
       "#sk-container-id-1 pre {\n",
       "  padding: 0;\n",
       "}\n",
       "\n",
       "#sk-container-id-1 input.sk-hidden--visually {\n",
       "  border: 0;\n",
       "  clip: rect(1px 1px 1px 1px);\n",
       "  clip: rect(1px, 1px, 1px, 1px);\n",
       "  height: 1px;\n",
       "  margin: -1px;\n",
       "  overflow: hidden;\n",
       "  padding: 0;\n",
       "  position: absolute;\n",
       "  width: 1px;\n",
       "}\n",
       "\n",
       "#sk-container-id-1 div.sk-dashed-wrapped {\n",
       "  border: 1px dashed var(--sklearn-color-line);\n",
       "  margin: 0 0.4em 0.5em 0.4em;\n",
       "  box-sizing: border-box;\n",
       "  padding-bottom: 0.4em;\n",
       "  background-color: var(--sklearn-color-background);\n",
       "}\n",
       "\n",
       "#sk-container-id-1 div.sk-container {\n",
       "  /* jupyter's `normalize.less` sets `[hidden] { display: none; }`\n",
       "     but bootstrap.min.css set `[hidden] { display: none !important; }`\n",
       "     so we also need the `!important` here to be able to override the\n",
       "     default hidden behavior on the sphinx rendered scikit-learn.org.\n",
       "     See: https://github.com/scikit-learn/scikit-learn/issues/21755 */\n",
       "  display: inline-block !important;\n",
       "  position: relative;\n",
       "}\n",
       "\n",
       "#sk-container-id-1 div.sk-text-repr-fallback {\n",
       "  display: none;\n",
       "}\n",
       "\n",
       "div.sk-parallel-item,\n",
       "div.sk-serial,\n",
       "div.sk-item {\n",
       "  /* draw centered vertical line to link estimators */\n",
       "  background-image: linear-gradient(var(--sklearn-color-text-on-default-background), var(--sklearn-color-text-on-default-background));\n",
       "  background-size: 2px 100%;\n",
       "  background-repeat: no-repeat;\n",
       "  background-position: center center;\n",
       "}\n",
       "\n",
       "/* Parallel-specific style estimator block */\n",
       "\n",
       "#sk-container-id-1 div.sk-parallel-item::after {\n",
       "  content: \"\";\n",
       "  width: 100%;\n",
       "  border-bottom: 2px solid var(--sklearn-color-text-on-default-background);\n",
       "  flex-grow: 1;\n",
       "}\n",
       "\n",
       "#sk-container-id-1 div.sk-parallel {\n",
       "  display: flex;\n",
       "  align-items: stretch;\n",
       "  justify-content: center;\n",
       "  background-color: var(--sklearn-color-background);\n",
       "  position: relative;\n",
       "}\n",
       "\n",
       "#sk-container-id-1 div.sk-parallel-item {\n",
       "  display: flex;\n",
       "  flex-direction: column;\n",
       "}\n",
       "\n",
       "#sk-container-id-1 div.sk-parallel-item:first-child::after {\n",
       "  align-self: flex-end;\n",
       "  width: 50%;\n",
       "}\n",
       "\n",
       "#sk-container-id-1 div.sk-parallel-item:last-child::after {\n",
       "  align-self: flex-start;\n",
       "  width: 50%;\n",
       "}\n",
       "\n",
       "#sk-container-id-1 div.sk-parallel-item:only-child::after {\n",
       "  width: 0;\n",
       "}\n",
       "\n",
       "/* Serial-specific style estimator block */\n",
       "\n",
       "#sk-container-id-1 div.sk-serial {\n",
       "  display: flex;\n",
       "  flex-direction: column;\n",
       "  align-items: center;\n",
       "  background-color: var(--sklearn-color-background);\n",
       "  padding-right: 1em;\n",
       "  padding-left: 1em;\n",
       "}\n",
       "\n",
       "\n",
       "/* Toggleable style: style used for estimator/Pipeline/ColumnTransformer box that is\n",
       "clickable and can be expanded/collapsed.\n",
       "- Pipeline and ColumnTransformer use this feature and define the default style\n",
       "- Estimators will overwrite some part of the style using the `sk-estimator` class\n",
       "*/\n",
       "\n",
       "/* Pipeline and ColumnTransformer style (default) */\n",
       "\n",
       "#sk-container-id-1 div.sk-toggleable {\n",
       "  /* Default theme specific background. It is overwritten whether we have a\n",
       "  specific estimator or a Pipeline/ColumnTransformer */\n",
       "  background-color: var(--sklearn-color-background);\n",
       "}\n",
       "\n",
       "/* Toggleable label */\n",
       "#sk-container-id-1 label.sk-toggleable__label {\n",
       "  cursor: pointer;\n",
       "  display: block;\n",
       "  width: 100%;\n",
       "  margin-bottom: 0;\n",
       "  padding: 0.5em;\n",
       "  box-sizing: border-box;\n",
       "  text-align: center;\n",
       "}\n",
       "\n",
       "#sk-container-id-1 label.sk-toggleable__label-arrow:before {\n",
       "  /* Arrow on the left of the label */\n",
       "  content: \"▸\";\n",
       "  float: left;\n",
       "  margin-right: 0.25em;\n",
       "  color: var(--sklearn-color-icon);\n",
       "}\n",
       "\n",
       "#sk-container-id-1 label.sk-toggleable__label-arrow:hover:before {\n",
       "  color: var(--sklearn-color-text);\n",
       "}\n",
       "\n",
       "/* Toggleable content - dropdown */\n",
       "\n",
       "#sk-container-id-1 div.sk-toggleable__content {\n",
       "  max-height: 0;\n",
       "  max-width: 0;\n",
       "  overflow: hidden;\n",
       "  text-align: left;\n",
       "  /* unfitted */\n",
       "  background-color: var(--sklearn-color-unfitted-level-0);\n",
       "}\n",
       "\n",
       "#sk-container-id-1 div.sk-toggleable__content.fitted {\n",
       "  /* fitted */\n",
       "  background-color: var(--sklearn-color-fitted-level-0);\n",
       "}\n",
       "\n",
       "#sk-container-id-1 div.sk-toggleable__content pre {\n",
       "  margin: 0.2em;\n",
       "  border-radius: 0.25em;\n",
       "  color: var(--sklearn-color-text);\n",
       "  /* unfitted */\n",
       "  background-color: var(--sklearn-color-unfitted-level-0);\n",
       "}\n",
       "\n",
       "#sk-container-id-1 div.sk-toggleable__content.fitted pre {\n",
       "  /* unfitted */\n",
       "  background-color: var(--sklearn-color-fitted-level-0);\n",
       "}\n",
       "\n",
       "#sk-container-id-1 input.sk-toggleable__control:checked~div.sk-toggleable__content {\n",
       "  /* Expand drop-down */\n",
       "  max-height: 200px;\n",
       "  max-width: 100%;\n",
       "  overflow: auto;\n",
       "}\n",
       "\n",
       "#sk-container-id-1 input.sk-toggleable__control:checked~label.sk-toggleable__label-arrow:before {\n",
       "  content: \"▾\";\n",
       "}\n",
       "\n",
       "/* Pipeline/ColumnTransformer-specific style */\n",
       "\n",
       "#sk-container-id-1 div.sk-label input.sk-toggleable__control:checked~label.sk-toggleable__label {\n",
       "  color: var(--sklearn-color-text);\n",
       "  background-color: var(--sklearn-color-unfitted-level-2);\n",
       "}\n",
       "\n",
       "#sk-container-id-1 div.sk-label.fitted input.sk-toggleable__control:checked~label.sk-toggleable__label {\n",
       "  background-color: var(--sklearn-color-fitted-level-2);\n",
       "}\n",
       "\n",
       "/* Estimator-specific style */\n",
       "\n",
       "/* Colorize estimator box */\n",
       "#sk-container-id-1 div.sk-estimator input.sk-toggleable__control:checked~label.sk-toggleable__label {\n",
       "  /* unfitted */\n",
       "  background-color: var(--sklearn-color-unfitted-level-2);\n",
       "}\n",
       "\n",
       "#sk-container-id-1 div.sk-estimator.fitted input.sk-toggleable__control:checked~label.sk-toggleable__label {\n",
       "  /* fitted */\n",
       "  background-color: var(--sklearn-color-fitted-level-2);\n",
       "}\n",
       "\n",
       "#sk-container-id-1 div.sk-label label.sk-toggleable__label,\n",
       "#sk-container-id-1 div.sk-label label {\n",
       "  /* The background is the default theme color */\n",
       "  color: var(--sklearn-color-text-on-default-background);\n",
       "}\n",
       "\n",
       "/* On hover, darken the color of the background */\n",
       "#sk-container-id-1 div.sk-label:hover label.sk-toggleable__label {\n",
       "  color: var(--sklearn-color-text);\n",
       "  background-color: var(--sklearn-color-unfitted-level-2);\n",
       "}\n",
       "\n",
       "/* Label box, darken color on hover, fitted */\n",
       "#sk-container-id-1 div.sk-label.fitted:hover label.sk-toggleable__label.fitted {\n",
       "  color: var(--sklearn-color-text);\n",
       "  background-color: var(--sklearn-color-fitted-level-2);\n",
       "}\n",
       "\n",
       "/* Estimator label */\n",
       "\n",
       "#sk-container-id-1 div.sk-label label {\n",
       "  font-family: monospace;\n",
       "  font-weight: bold;\n",
       "  display: inline-block;\n",
       "  line-height: 1.2em;\n",
       "}\n",
       "\n",
       "#sk-container-id-1 div.sk-label-container {\n",
       "  text-align: center;\n",
       "}\n",
       "\n",
       "/* Estimator-specific */\n",
       "#sk-container-id-1 div.sk-estimator {\n",
       "  font-family: monospace;\n",
       "  border: 1px dotted var(--sklearn-color-border-box);\n",
       "  border-radius: 0.25em;\n",
       "  box-sizing: border-box;\n",
       "  margin-bottom: 0.5em;\n",
       "  /* unfitted */\n",
       "  background-color: var(--sklearn-color-unfitted-level-0);\n",
       "}\n",
       "\n",
       "#sk-container-id-1 div.sk-estimator.fitted {\n",
       "  /* fitted */\n",
       "  background-color: var(--sklearn-color-fitted-level-0);\n",
       "}\n",
       "\n",
       "/* on hover */\n",
       "#sk-container-id-1 div.sk-estimator:hover {\n",
       "  /* unfitted */\n",
       "  background-color: var(--sklearn-color-unfitted-level-2);\n",
       "}\n",
       "\n",
       "#sk-container-id-1 div.sk-estimator.fitted:hover {\n",
       "  /* fitted */\n",
       "  background-color: var(--sklearn-color-fitted-level-2);\n",
       "}\n",
       "\n",
       "/* Specification for estimator info (e.g. \"i\" and \"?\") */\n",
       "\n",
       "/* Common style for \"i\" and \"?\" */\n",
       "\n",
       ".sk-estimator-doc-link,\n",
       "a:link.sk-estimator-doc-link,\n",
       "a:visited.sk-estimator-doc-link {\n",
       "  float: right;\n",
       "  font-size: smaller;\n",
       "  line-height: 1em;\n",
       "  font-family: monospace;\n",
       "  background-color: var(--sklearn-color-background);\n",
       "  border-radius: 1em;\n",
       "  height: 1em;\n",
       "  width: 1em;\n",
       "  text-decoration: none !important;\n",
       "  margin-left: 1ex;\n",
       "  /* unfitted */\n",
       "  border: var(--sklearn-color-unfitted-level-1) 1pt solid;\n",
       "  color: var(--sklearn-color-unfitted-level-1);\n",
       "}\n",
       "\n",
       ".sk-estimator-doc-link.fitted,\n",
       "a:link.sk-estimator-doc-link.fitted,\n",
       "a:visited.sk-estimator-doc-link.fitted {\n",
       "  /* fitted */\n",
       "  border: var(--sklearn-color-fitted-level-1) 1pt solid;\n",
       "  color: var(--sklearn-color-fitted-level-1);\n",
       "}\n",
       "\n",
       "/* On hover */\n",
       "div.sk-estimator:hover .sk-estimator-doc-link:hover,\n",
       ".sk-estimator-doc-link:hover,\n",
       "div.sk-label-container:hover .sk-estimator-doc-link:hover,\n",
       ".sk-estimator-doc-link:hover {\n",
       "  /* unfitted */\n",
       "  background-color: var(--sklearn-color-unfitted-level-3);\n",
       "  color: var(--sklearn-color-background);\n",
       "  text-decoration: none;\n",
       "}\n",
       "\n",
       "div.sk-estimator.fitted:hover .sk-estimator-doc-link.fitted:hover,\n",
       ".sk-estimator-doc-link.fitted:hover,\n",
       "div.sk-label-container:hover .sk-estimator-doc-link.fitted:hover,\n",
       ".sk-estimator-doc-link.fitted:hover {\n",
       "  /* fitted */\n",
       "  background-color: var(--sklearn-color-fitted-level-3);\n",
       "  color: var(--sklearn-color-background);\n",
       "  text-decoration: none;\n",
       "}\n",
       "\n",
       "/* Span, style for the box shown on hovering the info icon */\n",
       ".sk-estimator-doc-link span {\n",
       "  display: none;\n",
       "  z-index: 9999;\n",
       "  position: relative;\n",
       "  font-weight: normal;\n",
       "  right: .2ex;\n",
       "  padding: .5ex;\n",
       "  margin: .5ex;\n",
       "  width: min-content;\n",
       "  min-width: 20ex;\n",
       "  max-width: 50ex;\n",
       "  color: var(--sklearn-color-text);\n",
       "  box-shadow: 2pt 2pt 4pt #999;\n",
       "  /* unfitted */\n",
       "  background: var(--sklearn-color-unfitted-level-0);\n",
       "  border: .5pt solid var(--sklearn-color-unfitted-level-3);\n",
       "}\n",
       "\n",
       ".sk-estimator-doc-link.fitted span {\n",
       "  /* fitted */\n",
       "  background: var(--sklearn-color-fitted-level-0);\n",
       "  border: var(--sklearn-color-fitted-level-3);\n",
       "}\n",
       "\n",
       ".sk-estimator-doc-link:hover span {\n",
       "  display: block;\n",
       "}\n",
       "\n",
       "/* \"?\"-specific style due to the `<a>` HTML tag */\n",
       "\n",
       "#sk-container-id-1 a.estimator_doc_link {\n",
       "  float: right;\n",
       "  font-size: 1rem;\n",
       "  line-height: 1em;\n",
       "  font-family: monospace;\n",
       "  background-color: var(--sklearn-color-background);\n",
       "  border-radius: 1rem;\n",
       "  height: 1rem;\n",
       "  width: 1rem;\n",
       "  text-decoration: none;\n",
       "  /* unfitted */\n",
       "  color: var(--sklearn-color-unfitted-level-1);\n",
       "  border: var(--sklearn-color-unfitted-level-1) 1pt solid;\n",
       "}\n",
       "\n",
       "#sk-container-id-1 a.estimator_doc_link.fitted {\n",
       "  /* fitted */\n",
       "  border: var(--sklearn-color-fitted-level-1) 1pt solid;\n",
       "  color: var(--sklearn-color-fitted-level-1);\n",
       "}\n",
       "\n",
       "/* On hover */\n",
       "#sk-container-id-1 a.estimator_doc_link:hover {\n",
       "  /* unfitted */\n",
       "  background-color: var(--sklearn-color-unfitted-level-3);\n",
       "  color: var(--sklearn-color-background);\n",
       "  text-decoration: none;\n",
       "}\n",
       "\n",
       "#sk-container-id-1 a.estimator_doc_link.fitted:hover {\n",
       "  /* fitted */\n",
       "  background-color: var(--sklearn-color-fitted-level-3);\n",
       "}\n",
       "</style><div id=\"sk-container-id-1\" class=\"sk-top-container\"><div class=\"sk-text-repr-fallback\"><pre>LogisticRegression()</pre><b>In a Jupyter environment, please rerun this cell to show the HTML representation or trust the notebook. <br />On GitHub, the HTML representation is unable to render, please try loading this page with nbviewer.org.</b></div><div class=\"sk-container\" hidden><div class=\"sk-item\"><div class=\"sk-estimator fitted sk-toggleable\"><input class=\"sk-toggleable__control sk-hidden--visually\" id=\"sk-estimator-id-1\" type=\"checkbox\" checked><label for=\"sk-estimator-id-1\" class=\"sk-toggleable__label fitted sk-toggleable__label-arrow fitted\">&nbsp;&nbsp;LogisticRegression<a class=\"sk-estimator-doc-link fitted\" rel=\"noreferrer\" target=\"_blank\" href=\"https://scikit-learn.org/1.5/modules/generated/sklearn.linear_model.LogisticRegression.html\">?<span>Documentation for LogisticRegression</span></a><span class=\"sk-estimator-doc-link fitted\">i<span>Fitted</span></span></label><div class=\"sk-toggleable__content fitted\"><pre>LogisticRegression()</pre></div> </div></div></div></div>"
      ],
      "text/plain": [
       "LogisticRegression()"
      ]
     },
     "execution_count": 11,
     "metadata": {},
     "output_type": "execute_result"
    }
   ],
   "source": [
    "from sklearn.linear_model import LogisticRegression\n",
    "\n",
    "clf = LogisticRegression()\n",
    "\n",
    "clf.fit(X_train, y_train)"
   ]
  },
  {
   "cell_type": "markdown",
   "metadata": {},
   "source": [
    "We use the fitted model to make a prediction with `X_test`.  We get the predictions as a numpy array."
   ]
  },
  {
   "cell_type": "code",
   "execution_count": 12,
   "metadata": {},
   "outputs": [
    {
     "data": {
      "text/plain": [
       "array([0, 1, 0, 1, 0])"
      ]
     },
     "execution_count": 12,
     "metadata": {},
     "output_type": "execute_result"
    }
   ],
   "source": [
    "y_pred_class = clf.predict(X_test)\n",
    "y_pred_class[:5]"
   ]
  },
  {
   "cell_type": "markdown",
   "metadata": {},
   "source": [
    "For the rest of this exercise we will examine various metrics by means of which we can measure the performance of the classifier.  You will use the builtine scikit functions for these metrics and will also calculate them yourselfs.  Where ever you see a function of the form `my_<metric>` you need to define the function yourself to do the same calculation the builtin scikit function does."
   ]
  },
  {
   "cell_type": "markdown",
   "metadata": {},
   "source": [
    "##### Classification accuracy: percentage of correct predictions"
   ]
  },
  {
   "cell_type": "code",
   "execution_count": 14,
   "metadata": {},
   "outputs": [
    {
     "data": {
      "text/plain": [
       "192"
      ]
     },
     "execution_count": 14,
     "metadata": {},
     "output_type": "execute_result"
    }
   ],
   "source": [
    "len(X_test)"
   ]
  },
  {
   "cell_type": "markdown",
   "metadata": {},
   "source": [
    "Of the 192 test cases how many did we get right?"
   ]
  },
  {
   "cell_type": "code",
   "execution_count": 15,
   "metadata": {},
   "outputs": [
    {
     "data": {
      "text/plain": [
       "0.6770833333333334"
      ]
     },
     "execution_count": 15,
     "metadata": {},
     "output_type": "execute_result"
    }
   ],
   "source": [
    "from sklearn import metrics\n",
    "\n",
    "metrics.accuracy_score(y_test, y_pred_class)"
   ]
  },
  {
   "cell_type": "code",
   "execution_count": 16,
   "metadata": {},
   "outputs": [
    {
     "data": {
      "text/plain": [
       "(pandas.core.series.Series, numpy.ndarray)"
      ]
     },
     "execution_count": 16,
     "metadata": {},
     "output_type": "execute_result"
    }
   ],
   "source": [
    "type(y_test), type(y_pred_class)"
   ]
  },
  {
   "cell_type": "code",
   "execution_count": 17,
   "metadata": {},
   "outputs": [
    {
     "data": {
      "text/plain": [
       "0.6770833333333334"
      ]
     },
     "execution_count": 17,
     "metadata": {},
     "output_type": "execute_result"
    }
   ],
   "source": [
    "## TODO: my_accuracy_score(y_test, y_pred_class)\n",
    "\n",
    "def my_accuracy_score( actual, predicted): \n",
    "    return sum(actual == predicted) / len(actual)\n",
    "\n",
    "\n",
    "my_accuracy_score(y_test, y_pred_class)"
   ]
  },
  {
   "cell_type": "markdown",
   "metadata": {},
   "source": [
    "#### Null accuracy:\n",
    "\n",
    "This is defined as the accuracy that could be achieved by always predicting the most frequent class."
   ]
  },
  {
   "cell_type": "code",
   "execution_count": 18,
   "metadata": {},
   "outputs": [
    {
     "data": {
      "text/plain": [
       "Outcome\n",
       "0    0.609375\n",
       "1    0.390625\n",
       "Name: proportion, dtype: float64"
      ]
     },
     "execution_count": 18,
     "metadata": {},
     "output_type": "execute_result"
    }
   ],
   "source": [
    "y_test.value_counts(normalize=True)\n",
    "# Create a baseline. Give me some result without much effort\n",
    "# As the result listed below, 0.609 is the baseline accuracy"
   ]
  },
  {
   "cell_type": "markdown",
   "metadata": {},
   "source": [
    "The null accuracy is 61.98%"
   ]
  },
  {
   "cell_type": "markdown",
   "metadata": {},
   "source": [
    "### Confusion matrix\n",
    "\n",
    "While the confusion matrix itself is not a metric, all of the metrics can be calculated from it. Read the scikit-learn [documentation](https://scikit-learn.org/stable/auto_examples/model_selection/plot_confusion_matrix.html)\n",
    "on the confusion matrix"
   ]
  },
  {
   "cell_type": "code",
   "execution_count": 20,
   "metadata": {},
   "outputs": [
    {
     "data": {
      "text/plain": [
       "array([[97, 20],\n",
       "       [42, 33]])"
      ]
     },
     "execution_count": 20,
     "metadata": {},
     "output_type": "execute_result"
    }
   ],
   "source": [
    "metrics.confusion_matrix(y_test, y_pred_class)"
   ]
  },
  {
   "cell_type": "markdown",
   "metadata": {},
   "source": [
    "**Basic terminology**\n",
    "\n",
    "- **True Positives (TP):** we *correctly* predicted that they *do* have diabetes\n",
    "- **True Negatives (TN):** we *correctly* predicted that they *don't* have diabetes\n",
    "- **False Positives (FP):** we *incorrectly* predicted that they *do* have diabetes (a \"Type I error\")\n",
    "- **False Negatives (FN):** we *incorrectly* predicted that they *don't* have diabetes (a \"Type II error\")"
   ]
  },
  {
   "cell_type": "code",
   "execution_count": 21,
   "metadata": {},
   "outputs": [],
   "source": [
    "## TODO  In terms of the confusion matrix define the following 4 terms\n",
    "\n",
    "cm = metrics.confusion_matrix(y_test, y_pred_class)\n",
    "\n",
    "# Note that since our own my_confusion_matrix, returns a data frame we would have to say:\n",
    "# cm = my_confusion_matrix( y_test, y_pred_class).values\n",
    "\n",
    "TP = cm[1, 1]\n",
    "TN = cm[0, 0]\n",
    "FP = cm[0, 1]\n",
    "FN = cm[1, 0]"
   ]
  },
  {
   "cell_type": "markdown",
   "metadata": {},
   "source": [
    "#### Metrics computed from a confusion matrix\n",
    "\n",
    "Now we will calculate the following metrics:\n",
    "\n",
    "- accuracy\n",
    "- error, misclassification rate\n",
    "- recall, sensitivity, True Positive Rate (TPR)\n",
    "- specificity\n",
    "- false positivte rate (FPR)\n",
    "- precision\n"
   ]
  },
  {
   "cell_type": "markdown",
   "metadata": {},
   "source": [
    "**Accuracy:** Overall, how often is the classifier correct?"
   ]
  },
  {
   "cell_type": "code",
   "execution_count": 23,
   "metadata": {},
   "outputs": [
    {
     "data": {
      "text/plain": [
       "0.6770833333333334"
      ]
     },
     "execution_count": 23,
     "metadata": {},
     "output_type": "execute_result"
    }
   ],
   "source": [
    "metrics.accuracy_score(y_test, y_pred_class)"
   ]
  },
  {
   "cell_type": "code",
   "execution_count": 25,
   "metadata": {},
   "outputs": [
    {
     "data": {
      "text/plain": [
       "0.6770833333333334"
      ]
     },
     "execution_count": 25,
     "metadata": {},
     "output_type": "execute_result"
    }
   ],
   "source": [
    "## TODO: Express accuracy in terms of TP, TN, FP, FN\n",
    "accuracy = (TP + TN) / (TP + TN + FP + FN)\n",
    "accuracy\n"
   ]
  },
  {
   "cell_type": "markdown",
   "metadata": {},
   "source": [
    "**Error:** Overall, how often is the classifier incorrect? Also known as \"Misclassification Rate\""
   ]
  },
  {
   "cell_type": "code",
   "execution_count": 17,
   "metadata": {},
   "outputs": [
    {
     "data": {
      "text/plain": [
       "0.32291666666666663"
      ]
     },
     "execution_count": 17,
     "metadata": {},
     "output_type": "execute_result"
    }
   ],
   "source": [
    "1 - metrics.accuracy_score(y_test, y_pred_class)"
   ]
  },
  {
   "cell_type": "markdown",
   "metadata": {},
   "source": [
    "**Recall:** When the actual value is positive, how often is the prediction correct?\n",
    "\n",
    "- How \"sensitive\" is the classifier to detecting positive instances?\n",
    "- Also known as _Sensitivity_ or _True Positive Rate_ (TPR)"
   ]
  },
  {
   "cell_type": "code",
   "execution_count": 18,
   "metadata": {},
   "outputs": [
    {
     "data": {
      "text/plain": [
       "0.44"
      ]
     },
     "execution_count": 18,
     "metadata": {},
     "output_type": "execute_result"
    }
   ],
   "source": [
    "metrics.recall_score(y_test, y_pred_class)"
   ]
  },
  {
   "cell_type": "code",
   "execution_count": 26,
   "metadata": {},
   "outputs": [
    {
     "data": {
      "text/plain": [
       "0.44"
      ]
     },
     "execution_count": 26,
     "metadata": {},
     "output_type": "execute_result"
    }
   ],
   "source": [
    "## TODO: Express recall in terms of TP, TN, FP, FN\n",
    "\n",
    "recall = TP / (TP + FN)\n",
    "recall"
   ]
  },
  {
   "cell_type": "markdown",
   "metadata": {},
   "source": [
    "**Specificity:** When the actual value is negative, how often is the prediction correct?\n",
    "\n",
    "- How \"specific\" (or \"selective\") is the classifier in predicting positive instances?"
   ]
  },
  {
   "cell_type": "code",
   "execution_count": 27,
   "metadata": {},
   "outputs": [
    {
     "data": {
      "text/plain": [
       "0.8290598290598291"
      ]
     },
     "execution_count": 27,
     "metadata": {},
     "output_type": "execute_result"
    }
   ],
   "source": [
    "## TODO:  Express specificity in terms of TP, TN, FP, FN\n",
    "## Interestingly there is not builtin function in scikit-learn to calculate specificity\n",
    "specificity = TN / (TN + FP)\n",
    "specificity\n",
    "\n"
   ]
  },
  {
   "cell_type": "markdown",
   "metadata": {},
   "source": [
    "**False Positive Rate:** When the actual value is negative, how often is the prediction incorrect?"
   ]
  },
  {
   "cell_type": "code",
   "execution_count": 28,
   "metadata": {},
   "outputs": [
    {
     "data": {
      "text/plain": [
       "0.17094017094017094"
      ]
     },
     "execution_count": 28,
     "metadata": {},
     "output_type": "execute_result"
    }
   ],
   "source": [
    "## TODO:  Express FPR in terms of TP, TN, FP, FN\n",
    "## Interestingly there is not builtin function in scikit-learn to calculate FPR\n",
    "FPR = FP / (TN + FP)\n",
    "FPR\n"
   ]
  },
  {
   "cell_type": "markdown",
   "metadata": {},
   "source": [
    "**Precision:** When a positive value is predicted, how often is the prediction correct?\n",
    "\n",
    "- How \"precise\" is the classifier when predicting positive instances?"
   ]
  },
  {
   "cell_type": "code",
   "execution_count": 22,
   "metadata": {},
   "outputs": [
    {
     "data": {
      "text/plain": [
       "0.6226415094339622"
      ]
     },
     "execution_count": 22,
     "metadata": {},
     "output_type": "execute_result"
    }
   ],
   "source": [
    "metrics.precision_score(y_test, y_pred_class)"
   ]
  },
  {
   "cell_type": "code",
   "execution_count": 29,
   "metadata": {},
   "outputs": [
    {
     "data": {
      "text/plain": [
       "0.6226415094339622"
      ]
     },
     "execution_count": 29,
     "metadata": {},
     "output_type": "execute_result"
    }
   ],
   "source": [
    "## TODO :  Express precision in terms of TP, TN, FP, FN\n",
    "\n",
    "precision = TP / (TP + FP)\n",
    "precision"
   ]
  },
  {
   "cell_type": "markdown",
   "metadata": {},
   "source": [
    "## Nothing TODO below this;  just study the material"
   ]
  },
  {
   "cell_type": "markdown",
   "metadata": {},
   "source": [
    "## The ROC curve\n"
   ]
  },
  {
   "cell_type": "markdown",
   "metadata": {},
   "source": [
    "The values of y_test are"
   ]
  },
  {
   "cell_type": "code",
   "execution_count": 30,
   "metadata": {},
   "outputs": [
    {
     "data": {
      "text/plain": [
       "82     0\n",
       "152    1\n",
       "393    0\n",
       "691    1\n",
       "14     1\n",
       "      ..\n",
       "538    0\n",
       "569    1\n",
       "482    0\n",
       "30     0\n",
       "412    0\n",
       "Name: Outcome, Length: 192, dtype: int64"
      ]
     },
     "execution_count": 30,
     "metadata": {},
     "output_type": "execute_result"
    }
   ],
   "source": [
    "y_test"
   ]
  },
  {
   "cell_type": "code",
   "execution_count": 31,
   "metadata": {},
   "outputs": [
    {
     "data": {
      "text/plain": [
       "Outcome\n",
       "0    117\n",
       "1     75\n",
       "Name: count, dtype: int64"
      ]
     },
     "execution_count": 31,
     "metadata": {},
     "output_type": "execute_result"
    }
   ],
   "source": [
    "y_test.value_counts()"
   ]
  },
  {
   "cell_type": "markdown",
   "metadata": {},
   "source": [
    "Though we used `clf.predict(y_test)` to see what the classifier predicts, in practice we rarely do this.  Rather we use the classifier to determine the probability of each test observation being in the `0` or `1` class using the `predict_proba` method:"
   ]
  },
  {
   "cell_type": "code",
   "execution_count": 32,
   "metadata": {},
   "outputs": [],
   "source": [
    "y_pred_proba = clf.predict_proba(X_test)"
   ]
  },
  {
   "cell_type": "markdown",
   "metadata": {},
   "source": [
    "### Note:\n",
    "Study the below and make sure you understand the correspondence between the values of `y_test` and the two probabilities"
   ]
  },
  {
   "cell_type": "code",
   "execution_count": 34,
   "metadata": {},
   "outputs": [
    {
     "data": {
      "text/plain": [
       "[(0, array([0.64767145, 0.35232855])),\n",
       " (1, array([0.40229481, 0.59770519])),\n",
       " (0, array([0.81760299, 0.18239701])),\n",
       " (1, array([0.23941319, 0.76058681])),\n",
       " (1, array([0.63275924, 0.36724076])),\n",
       " (1, array([0.39376132, 0.60623868])),\n",
       " (1, array([0.74102404, 0.25897596])),\n",
       " (0, array([0.86344877, 0.13655123])),\n",
       " (0, array([0.73107741, 0.26892259])),\n",
       " (0, array([0.75570228, 0.24429772]))]"
      ]
     },
     "execution_count": 34,
     "metadata": {},
     "output_type": "execute_result"
    }
   ],
   "source": [
    "list(zip(y_test, y_pred_proba))[:10] # y_test shows the true label, y_pred_proba shows the probability of being 0 or 1"
   ]
  },
  {
   "cell_type": "markdown",
   "metadata": {},
   "source": [
    "Once the probabilities are determined it is left to the business domain to determine above what threshold will a test observation be classified as a `1`. As we saw in class as we vary this threshold the _sensitivity_ and _specificity_ of the classifier will vary.  The ROC curve graphically depicts how these two metricx vary as the classification threshold varies.  There is a builtin function that will help determine the ROC curve"
   ]
  },
  {
   "cell_type": "code",
   "execution_count": 37,
   "metadata": {},
   "outputs": [],
   "source": [
    "positive = y_pred_proba[:,1]"
   ]
  },
  {
   "cell_type": "markdown",
   "metadata": {},
   "source": [
    "y_pred_proba[:,1]: This slices the y_pred_proba array to extract the second column (index 1) from each row.                      y_pred_proba is typically a 2D array where each row contains the predicted probabilities for each class (e.g., class 0 and class 1).\n",
    "\n",
    "Assignment to positive: The extracted column is assigned to the variable positive."
   ]
  },
  {
   "cell_type": "code",
   "execution_count": 36,
   "metadata": {},
   "outputs": [
    {
     "data": {
      "text/plain": [
       "array([0.35232855, 0.59770519, 0.18239701, 0.76058681, 0.36724076,\n",
       "       0.60623868, 0.25897596, 0.13655123, 0.26892259, 0.24429772,\n",
       "       0.125335  , 0.47696354, 0.24893877, 0.39517472, 0.27503182,\n",
       "       0.10655623, 0.57870414, 0.53587282, 0.29299912, 0.48233003,\n",
       "       0.46630438, 0.49725319, 0.09213436, 0.25561705, 0.23076444,\n",
       "       0.54558546, 0.16360658, 0.13088116, 0.72372675, 0.01310239,\n",
       "       0.68269949, 0.50471716, 0.38354189, 0.55810984, 0.60489713,\n",
       "       0.63524243, 0.12555399, 0.34192092, 0.66971485, 0.50443855,\n",
       "       0.45310255, 0.08625742, 0.0550422 , 0.23499985, 0.23577241,\n",
       "       0.11817464, 0.50845252, 0.28221166, 0.29141993, 0.69358741,\n",
       "       0.2326289 , 0.33284236, 0.11859455, 0.55250792, 0.47574205,\n",
       "       0.18954509, 0.33028788, 0.13972553, 0.73936357, 0.66642644,\n",
       "       0.3721631 , 0.57906886, 0.39458965, 0.26199887, 0.31629932,\n",
       "       0.20276387, 0.27470307, 0.13373564, 0.23875684, 0.44992215,\n",
       "       0.18747004, 0.30509344, 0.20463375, 0.38265515, 0.26823619,\n",
       "       0.08895528, 0.25755128, 0.55127171, 0.84519168, 0.5533108 ,\n",
       "       0.36922431, 0.28643114, 0.2671968 , 0.27070442, 0.57000597,\n",
       "       0.39391498, 0.27383703, 0.52709998, 0.17125972, 0.14638592,\n",
       "       0.16480045, 0.20481348, 0.47786745, 0.71355546, 0.38602798,\n",
       "       0.13732013, 0.46428274, 0.19430811, 0.35415939, 0.31140875,\n",
       "       0.14152841, 0.1691905 , 0.63361161, 0.28230842, 0.29766555,\n",
       "       0.27490087, 0.21875124, 0.50244232, 0.19344544, 0.38692815,\n",
       "       0.08049069, 0.17434596, 0.33151944, 0.11166634, 0.28761365,\n",
       "       0.24690746, 0.62714947, 0.65273084, 0.67018718, 0.56332309,\n",
       "       0.06417797, 0.51691637, 0.61797203, 0.51126413, 0.36481249,\n",
       "       0.14391708, 0.50491242, 0.61508418, 0.81581787, 0.10290181,\n",
       "       0.45382495, 0.55390263, 0.24325446, 0.37656711, 0.25438321,\n",
       "       0.29597718, 0.56345404, 0.33893645, 0.14776578, 0.21799345,\n",
       "       0.24003094, 0.5950293 , 0.33372979, 0.24293058, 0.38306885,\n",
       "       0.29783677, 0.43562329, 0.38234105, 0.56086451, 0.68815001,\n",
       "       0.33035455, 0.42095791, 0.22496265, 0.68257183, 0.59980286,\n",
       "       0.39520134, 0.37965809, 0.10497101, 0.42620561, 0.13084823,\n",
       "       0.08052152, 0.71078936, 0.49234953, 0.46566528, 0.17824303,\n",
       "       0.13799861, 0.3211348 , 0.44210742, 0.32670875, 0.3365556 ,\n",
       "       0.23327371, 0.5002389 , 0.15263882, 0.76999778, 0.63703177,\n",
       "       0.15009277, 0.21929508, 0.57673556, 0.42709382, 0.42179731,\n",
       "       0.66978975, 0.11444593, 0.31814903, 0.1301949 , 0.46026788,\n",
       "       0.42117139, 0.45325554, 0.33112298, 0.31249903, 0.21363713,\n",
       "       0.50954777, 0.54487917])"
      ]
     },
     "execution_count": 36,
     "metadata": {},
     "output_type": "execute_result"
    }
   ],
   "source": [
    "positive"
   ]
  },
  {
   "cell_type": "code",
   "execution_count": 40,
   "metadata": {},
   "outputs": [],
   "source": [
    "fpr, tpr, thresholds = metrics.roc_curve(y_test, positive)"
   ]
  },
  {
   "cell_type": "code",
   "execution_count": 38,
   "metadata": {},
   "outputs": [],
   "source": [
    "import altair as alt\n",
    "import pandas as pd"
   ]
  },
  {
   "cell_type": "code",
   "execution_count": 41,
   "metadata": {},
   "outputs": [
    {
     "data": {
      "text/html": [
       "<div>\n",
       "<style scoped>\n",
       "    .dataframe tbody tr th:only-of-type {\n",
       "        vertical-align: middle;\n",
       "    }\n",
       "\n",
       "    .dataframe tbody tr th {\n",
       "        vertical-align: top;\n",
       "    }\n",
       "\n",
       "    .dataframe thead th {\n",
       "        text-align: right;\n",
       "    }\n",
       "</style>\n",
       "<table border=\"1\" class=\"dataframe\">\n",
       "  <thead>\n",
       "    <tr style=\"text-align: right;\">\n",
       "      <th></th>\n",
       "      <th>fpr</th>\n",
       "      <th>tpr</th>\n",
       "      <th>threshold</th>\n",
       "    </tr>\n",
       "  </thead>\n",
       "  <tbody>\n",
       "    <tr>\n",
       "      <th>0</th>\n",
       "      <td>0.000000</td>\n",
       "      <td>0.000000</td>\n",
       "      <td>inf</td>\n",
       "    </tr>\n",
       "    <tr>\n",
       "      <th>1</th>\n",
       "      <td>0.000000</td>\n",
       "      <td>0.013333</td>\n",
       "      <td>0.845192</td>\n",
       "    </tr>\n",
       "    <tr>\n",
       "      <th>2</th>\n",
       "      <td>0.008547</td>\n",
       "      <td>0.013333</td>\n",
       "      <td>0.815818</td>\n",
       "    </tr>\n",
       "    <tr>\n",
       "      <th>3</th>\n",
       "      <td>0.008547</td>\n",
       "      <td>0.106667</td>\n",
       "      <td>0.693587</td>\n",
       "    </tr>\n",
       "    <tr>\n",
       "      <th>4</th>\n",
       "      <td>0.017094</td>\n",
       "      <td>0.106667</td>\n",
       "      <td>0.688150</td>\n",
       "    </tr>\n",
       "  </tbody>\n",
       "</table>\n",
       "</div>"
      ],
      "text/plain": [
       "        fpr       tpr  threshold\n",
       "0  0.000000  0.000000        inf\n",
       "1  0.000000  0.013333   0.845192\n",
       "2  0.008547  0.013333   0.815818\n",
       "3  0.008547  0.106667   0.693587\n",
       "4  0.017094  0.106667   0.688150"
      ]
     },
     "execution_count": 41,
     "metadata": {},
     "output_type": "execute_result"
    }
   ],
   "source": [
    "df = pd.DataFrame({'fpr':fpr, 'tpr':tpr, 'threshold':thresholds})\n",
    "df.head()"
   ]
  },
  {
   "cell_type": "code",
   "execution_count": 42,
   "metadata": {},
   "outputs": [
    {
     "data": {
      "text/plain": [
       "83"
      ]
     },
     "execution_count": 42,
     "metadata": {},
     "output_type": "execute_result"
    }
   ],
   "source": [
    "len(df)"
   ]
  },
  {
   "cell_type": "code",
   "execution_count": 43,
   "metadata": {},
   "outputs": [
    {
     "data": {
      "text/html": [
       "\n",
       "<style>\n",
       "  #altair-viz-4c3a9bacae0b4bfbba4658b5663ec96d.vega-embed {\n",
       "    width: 100%;\n",
       "    display: flex;\n",
       "  }\n",
       "\n",
       "  #altair-viz-4c3a9bacae0b4bfbba4658b5663ec96d.vega-embed details,\n",
       "  #altair-viz-4c3a9bacae0b4bfbba4658b5663ec96d.vega-embed details summary {\n",
       "    position: relative;\n",
       "  }\n",
       "</style>\n",
       "<div id=\"altair-viz-4c3a9bacae0b4bfbba4658b5663ec96d\"></div>\n",
       "<script type=\"text/javascript\">\n",
       "  var VEGA_DEBUG = (typeof VEGA_DEBUG == \"undefined\") ? {} : VEGA_DEBUG;\n",
       "  (function(spec, embedOpt){\n",
       "    let outputDiv = document.currentScript.previousElementSibling;\n",
       "    if (outputDiv.id !== \"altair-viz-4c3a9bacae0b4bfbba4658b5663ec96d\") {\n",
       "      outputDiv = document.getElementById(\"altair-viz-4c3a9bacae0b4bfbba4658b5663ec96d\");\n",
       "    }\n",
       "    const paths = {\n",
       "      \"vega\": \"https://cdn.jsdelivr.net/npm/vega@5?noext\",\n",
       "      \"vega-lib\": \"https://cdn.jsdelivr.net/npm/vega-lib?noext\",\n",
       "      \"vega-lite\": \"https://cdn.jsdelivr.net/npm/vega-lite@5.8.0?noext\",\n",
       "      \"vega-embed\": \"https://cdn.jsdelivr.net/npm/vega-embed@6?noext\",\n",
       "    };\n",
       "\n",
       "    function maybeLoadScript(lib, version) {\n",
       "      var key = `${lib.replace(\"-\", \"\")}_version`;\n",
       "      return (VEGA_DEBUG[key] == version) ?\n",
       "        Promise.resolve(paths[lib]) :\n",
       "        new Promise(function(resolve, reject) {\n",
       "          var s = document.createElement('script');\n",
       "          document.getElementsByTagName(\"head\")[0].appendChild(s);\n",
       "          s.async = true;\n",
       "          s.onload = () => {\n",
       "            VEGA_DEBUG[key] = version;\n",
       "            return resolve(paths[lib]);\n",
       "          };\n",
       "          s.onerror = () => reject(`Error loading script: ${paths[lib]}`);\n",
       "          s.src = paths[lib];\n",
       "        });\n",
       "    }\n",
       "\n",
       "    function showError(err) {\n",
       "      outputDiv.innerHTML = `<div class=\"error\" style=\"color:red;\">${err}</div>`;\n",
       "      throw err;\n",
       "    }\n",
       "\n",
       "    function displayChart(vegaEmbed) {\n",
       "      vegaEmbed(outputDiv, spec, embedOpt)\n",
       "        .catch(err => showError(`Javascript Error: ${err.message}<br>This usually means there's a typo in your chart specification. See the javascript console for the full traceback.`));\n",
       "    }\n",
       "\n",
       "    if(typeof define === \"function\" && define.amd) {\n",
       "      requirejs.config({paths});\n",
       "      require([\"vega-embed\"], displayChart, err => showError(`Error loading script: ${err.message}`));\n",
       "    } else {\n",
       "      maybeLoadScript(\"vega\", \"5\")\n",
       "        .then(() => maybeLoadScript(\"vega-lite\", \"5.8.0\"))\n",
       "        .then(() => maybeLoadScript(\"vega-embed\", \"6\"))\n",
       "        .catch(showError)\n",
       "        .then(() => displayChart(vegaEmbed));\n",
       "    }\n",
       "  })({\"config\": {\"view\": {\"continuousWidth\": 300, \"continuousHeight\": 300}}, \"data\": {\"name\": \"data-1a2c9df55c0865d0dad466205e3367f3\"}, \"mark\": {\"type\": \"line\", \"point\": true}, \"encoding\": {\"tooltip\": {\"field\": \"threshold\", \"type\": \"quantitative\"}, \"x\": {\"field\": \"fpr\", \"type\": \"quantitative\"}, \"y\": {\"field\": \"tpr\", \"type\": \"quantitative\"}}, \"$schema\": \"https://vega.github.io/schema/vega-lite/v5.8.0.json\", \"datasets\": {\"data-1a2c9df55c0865d0dad466205e3367f3\": [{\"fpr\": 0.0, \"tpr\": 0.0, \"threshold\": null}, {\"fpr\": 0.0, \"tpr\": 0.013333333333333334, \"threshold\": 0.8451916834832108}, {\"fpr\": 0.008547008547008548, \"tpr\": 0.013333333333333334, \"threshold\": 0.8158178681933612}, {\"fpr\": 0.008547008547008548, \"tpr\": 0.10666666666666667, \"threshold\": 0.6935874068077129}, {\"fpr\": 0.017094017094017096, \"tpr\": 0.10666666666666667, \"threshold\": 0.6881500097444537}, {\"fpr\": 0.017094017094017096, \"tpr\": 0.13333333333333333, \"threshold\": 0.6825718349865512}, {\"fpr\": 0.042735042735042736, \"tpr\": 0.13333333333333333, \"threshold\": 0.6697148460422445}, {\"fpr\": 0.042735042735042736, \"tpr\": 0.14666666666666667, \"threshold\": 0.6664264441408047}, {\"fpr\": 0.06837606837606838, \"tpr\": 0.14666666666666667, \"threshold\": 0.6352424258548841}, {\"fpr\": 0.06837606837606838, \"tpr\": 0.16, \"threshold\": 0.6336116103085626}, {\"fpr\": 0.07692307692307693, \"tpr\": 0.16, \"threshold\": 0.6271494652206043}, {\"fpr\": 0.07692307692307693, \"tpr\": 0.17333333333333334, \"threshold\": 0.6179720322962984}, {\"fpr\": 0.08547008547008547, \"tpr\": 0.17333333333333334, \"threshold\": 0.6150841800225454}, {\"fpr\": 0.08547008547008547, \"tpr\": 0.24, \"threshold\": 0.5950292963345687}, {\"fpr\": 0.09401709401709402, \"tpr\": 0.24, \"threshold\": 0.5790688577652958}, {\"fpr\": 0.09401709401709402, \"tpr\": 0.28, \"threshold\": 0.5700059675449859}, {\"fpr\": 0.10256410256410256, \"tpr\": 0.28, \"threshold\": 0.5634540358271486}, {\"fpr\": 0.10256410256410256, \"tpr\": 0.32, \"threshold\": 0.558109841842929}, {\"fpr\": 0.11965811965811966, \"tpr\": 0.32, \"threshold\": 0.5533108028162566}, {\"fpr\": 0.11965811965811966, \"tpr\": 0.36, \"threshold\": 0.5455854588081728}, {\"fpr\": 0.13675213675213677, \"tpr\": 0.36, \"threshold\": 0.5358728242507662}, {\"fpr\": 0.13675213675213677, \"tpr\": 0.37333333333333335, \"threshold\": 0.5270999769128188}, {\"fpr\": 0.1452991452991453, \"tpr\": 0.37333333333333335, \"threshold\": 0.5169163713042741}, {\"fpr\": 0.1452991452991453, \"tpr\": 0.38666666666666666, \"threshold\": 0.5112641296030312}, {\"fpr\": 0.15384615384615385, \"tpr\": 0.38666666666666666, \"threshold\": 0.5095477704262728}, {\"fpr\": 0.15384615384615385, \"tpr\": 0.4, \"threshold\": 0.5084525246347918}, {\"fpr\": 0.17094017094017094, \"tpr\": 0.4, \"threshold\": 0.5047171640473337}, {\"fpr\": 0.17094017094017094, \"tpr\": 0.49333333333333335, \"threshold\": 0.47786744713090024}, {\"fpr\": 0.1794871794871795, \"tpr\": 0.49333333333333335, \"threshold\": 0.4769635371516856}, {\"fpr\": 0.1794871794871795, \"tpr\": 0.52, \"threshold\": 0.466304384235612}, {\"fpr\": 0.19658119658119658, \"tpr\": 0.52, \"threshold\": 0.46428274382232126}, {\"fpr\": 0.19658119658119658, \"tpr\": 0.5333333333333333, \"threshold\": 0.46026788270952523}, {\"fpr\": 0.21367521367521367, \"tpr\": 0.5333333333333333, \"threshold\": 0.4532555373608193}, {\"fpr\": 0.21367521367521367, \"tpr\": 0.56, \"threshold\": 0.4499221456988193}, {\"fpr\": 0.2222222222222222, \"tpr\": 0.56, \"threshold\": 0.4421074184634359}, {\"fpr\": 0.2222222222222222, \"tpr\": 0.5733333333333334, \"threshold\": 0.43562329386945814}, {\"fpr\": 0.23931623931623933, \"tpr\": 0.5733333333333334, \"threshold\": 0.4262056096935901}, {\"fpr\": 0.23931623931623933, \"tpr\": 0.6, \"threshold\": 0.4211713926052694}, {\"fpr\": 0.2564102564102564, \"tpr\": 0.6, \"threshold\": 0.3952013358424062}, {\"fpr\": 0.2564102564102564, \"tpr\": 0.6133333333333333, \"threshold\": 0.39517472341425797}, {\"fpr\": 0.28205128205128205, \"tpr\": 0.6133333333333333, \"threshold\": 0.3869281477884773}, {\"fpr\": 0.28205128205128205, \"tpr\": 0.6266666666666667, \"threshold\": 0.3860279761734111}, {\"fpr\": 0.2905982905982906, \"tpr\": 0.6266666666666667, \"threshold\": 0.3835418871390115}, {\"fpr\": 0.2905982905982906, \"tpr\": 0.64, \"threshold\": 0.38306884788309487}, {\"fpr\": 0.29914529914529914, \"tpr\": 0.64, \"threshold\": 0.3826551465843078}, {\"fpr\": 0.29914529914529914, \"tpr\": 0.6533333333333333, \"threshold\": 0.38234104996063173}, {\"fpr\": 0.3333333333333333, \"tpr\": 0.6533333333333333, \"threshold\": 0.369224306317079}, {\"fpr\": 0.3333333333333333, \"tpr\": 0.68, \"threshold\": 0.36481248570420327}, {\"fpr\": 0.358974358974359, \"tpr\": 0.68, \"threshold\": 0.34192091801187335}, {\"fpr\": 0.358974358974359, \"tpr\": 0.6933333333333334, \"threshold\": 0.3389364493095849}, {\"fpr\": 0.38461538461538464, \"tpr\": 0.6933333333333334, \"threshold\": 0.3328423567038492}, {\"fpr\": 0.38461538461538464, \"tpr\": 0.7066666666666667, \"threshold\": 0.33151944155636054}, {\"fpr\": 0.4017094017094017, \"tpr\": 0.7066666666666667, \"threshold\": 0.3303545486694541}, {\"fpr\": 0.4017094017094017, \"tpr\": 0.72, \"threshold\": 0.3302878814459781}, {\"fpr\": 0.4188034188034188, \"tpr\": 0.72, \"threshold\": 0.32113479526000205}, {\"fpr\": 0.4188034188034188, \"tpr\": 0.7333333333333333, \"threshold\": 0.3181490256637943}, {\"fpr\": 0.42735042735042733, \"tpr\": 0.7333333333333333, \"threshold\": 0.3162993232818853}, {\"fpr\": 0.42735042735042733, \"tpr\": 0.76, \"threshold\": 0.3114087484897081}, {\"fpr\": 0.4358974358974359, \"tpr\": 0.76, \"threshold\": 0.3050934419218053}, {\"fpr\": 0.4358974358974359, \"tpr\": 0.7733333333333333, \"threshold\": 0.29783676585984764}, {\"fpr\": 0.47863247863247865, \"tpr\": 0.7733333333333333, \"threshold\": 0.28761365320083626}, {\"fpr\": 0.47863247863247865, \"tpr\": 0.8133333333333334, \"threshold\": 0.282211656796379}, {\"fpr\": 0.48717948717948717, \"tpr\": 0.8133333333333334, \"threshold\": 0.2750318167320247}, {\"fpr\": 0.48717948717948717, \"tpr\": 0.84, \"threshold\": 0.2747030720447484}, {\"fpr\": 0.5128205128205128, \"tpr\": 0.84, \"threshold\": 0.26892258797934926}, {\"fpr\": 0.5128205128205128, \"tpr\": 0.8533333333333334, \"threshold\": 0.26823618919175113}, {\"fpr\": 0.5299145299145299, \"tpr\": 0.8533333333333334, \"threshold\": 0.2619988654494478}, {\"fpr\": 0.5299145299145299, \"tpr\": 0.8933333333333333, \"threshold\": 0.2556170459856525}, {\"fpr\": 0.5384615384615384, \"tpr\": 0.8933333333333333, \"threshold\": 0.25438320633287875}, {\"fpr\": 0.5384615384615384, \"tpr\": 0.92, \"threshold\": 0.2469074553785599}, {\"fpr\": 0.5726495726495726, \"tpr\": 0.92, \"threshold\": 0.2400309417926385}, {\"fpr\": 0.5726495726495726, \"tpr\": 0.9333333333333333, \"threshold\": 0.23875684437121128}, {\"fpr\": 0.5811965811965812, \"tpr\": 0.9333333333333333, \"threshold\": 0.23577240525887802}, {\"fpr\": 0.5811965811965812, \"tpr\": 0.9466666666666667, \"threshold\": 0.23499984960284084}, {\"fpr\": 0.5982905982905983, \"tpr\": 0.9466666666666667, \"threshold\": 0.23262889731846892}, {\"fpr\": 0.5982905982905983, \"tpr\": 0.96, \"threshold\": 0.23076443873271416}, {\"fpr\": 0.6068376068376068, \"tpr\": 0.96, \"threshold\": 0.2249626453120321}, {\"fpr\": 0.6068376068376068, \"tpr\": 0.9733333333333334, \"threshold\": 0.21929507540837062}, {\"fpr\": 0.6666666666666666, \"tpr\": 0.9733333333333334, \"threshold\": 0.1943081142197596}, {\"fpr\": 0.6666666666666666, \"tpr\": 0.9866666666666667, \"threshold\": 0.1934454381815056}, {\"fpr\": 0.6752136752136753, \"tpr\": 0.9866666666666667, \"threshold\": 0.18954509023104527}, {\"fpr\": 0.6752136752136753, \"tpr\": 1.0, \"threshold\": 0.1874700400999069}, {\"fpr\": 1.0, \"tpr\": 1.0, \"threshold\": 0.013102385929857732}]}}, {\"mode\": \"vega-lite\"});\n",
       "</script>"
      ],
      "text/plain": [
       "alt.Chart(...)"
      ]
     },
     "execution_count": 43,
     "metadata": {},
     "output_type": "execute_result"
    }
   ],
   "source": [
    "alt.Chart(df).mark_line(point=True).encode(\n",
    "    x='fpr',\n",
    "    y='tpr',\n",
    "    tooltip='threshold'\n",
    ")"
   ]
  },
  {
   "cell_type": "markdown",
   "metadata": {},
   "source": [
    "While the ROC curve is determined by the classification threshold, the threshold itself is not directly observable from the curve.  Using the interactive feature of Altair we are able to inspect the threshold."
   ]
  },
  {
   "cell_type": "markdown",
   "metadata": {},
   "source": []
  }
 ],
 "metadata": {
  "kernelspec": {
   "display_name": "base",
   "language": "python",
   "name": "python3"
  },
  "language_info": {
   "codemirror_mode": {
    "name": "ipython",
    "version": 3
   },
   "file_extension": ".py",
   "mimetype": "text/x-python",
   "name": "python",
   "nbconvert_exporter": "python",
   "pygments_lexer": "ipython3",
   "version": "3.12.2"
  }
 },
 "nbformat": 4,
 "nbformat_minor": 4
}
