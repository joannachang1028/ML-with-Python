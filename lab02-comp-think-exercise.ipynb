{
 "cells": [
  {
   "cell_type": "markdown",
   "id": "a0216892-ef6b-4709-8fe7-6612f9b9d7f5",
   "metadata": {},
   "source": [
    "# 90-803 Machine Learning Foundations with Python\n",
    "### Spring 2025 / Lab02 Computational Thinking\n",
    "\n",
    "#### Your name: `__________________________________`\n",
    "#### Your Andrew Id: `_______________________`"
   ]
  },
  {
   "cell_type": "markdown",
   "id": "281eb647-64e1-44e5-8ff8-d89e3a903bfd",
   "metadata": {},
   "source": [
    "#### Instructions\n",
    "1. Rename this notebook to `lab02-andrewid.ipynb`\n",
    "2. Complete the code for Q3\n",
    "3. Submit the notebook via the Canvas box for lab-2"
   ]
  },
  {
   "attachments": {},
   "cell_type": "markdown",
   "id": "5812273c-90fa-40ce-b281-fafc0a949f89",
   "metadata": {},
   "source": [
    "**Q1.**\tA 2D point is defined as a tuple of 2 numbers (x,y).  Given a list of an arbitrary points, lst, a point p, and an integer k, write a function closest_points which will return the k closest points in lst to p. Assume the existence of the function distance with gives the Euclidean distance between two points p and q.   e.g., `lst = [(10,10), (9,9), (7,7), (5,5), (4,4), (3,3), (2,2)]` and  `p = (0,0)` then `closest_points(lst, p, 5)` should return `[(2, 2), (3, 3), (4, 4), (5, 5), (7, 7)]`."
   ]
  },
  {
   "cell_type": "code",
   "execution_count": 3,
   "id": "443b5a02-06c5-4f65-9336-fd1758247380",
   "metadata": {},
   "outputs": [],
   "source": [
    "\n",
    "\n",
    "\n"
   ]
  },
  {
   "cell_type": "code",
   "execution_count": 4,
   "id": "30a2a38f-b41f-485d-9215-679596ec84c8",
   "metadata": {},
   "outputs": [
    {
     "data": {
      "text/plain": [
       "1.4142135623730951"
      ]
     },
     "execution_count": 4,
     "metadata": {},
     "output_type": "execute_result"
    }
   ],
   "source": [
    "distance( (0,0), (1,1) )"
   ]
  },
  {
   "cell_type": "code",
   "execution_count": 5,
   "id": "913272f6-d266-4427-9293-7ef9f6e05a76",
   "metadata": {},
   "outputs": [],
   "source": [
    "p = (0,0)\n",
    "lst = [(10,10), (9,9), (7,7), (5,5), (4,4), (3,3), (2,2)]"
   ]
  },
  {
   "cell_type": "code",
   "execution_count": 24,
   "id": "225dc3f0-01d8-4d04-affa-503c657a92d9",
   "metadata": {},
   "outputs": [],
   "source": [
    "\n",
    "\n",
    "\n",
    "\n",
    "\n"
   ]
  },
  {
   "cell_type": "code",
   "execution_count": 25,
   "id": "bb1e0b2d-bf53-4263-9275-069c28281185",
   "metadata": {},
   "outputs": [
    {
     "data": {
      "text/plain": [
       "[(2, 2), (3, 3), (4, 4), (5, 5), (7, 7)]"
      ]
     },
     "execution_count": 25,
     "metadata": {},
     "output_type": "execute_result"
    }
   ],
   "source": [
    "closest_points( lst, p, 5 )"
   ]
  },
  {
   "attachments": {},
   "cell_type": "markdown",
   "id": "7a7f407e-d1d2-485d-acab-269004acb1b9",
   "metadata": {},
   "source": [
    "**Q2** This is a question on functional abstraction.  When answering this question do NOT worry about efficiency.  The goal is to identify proper functional abstractions.  A **_balanced prime_** is defined as a prime number that is the average of the immediately preceding prime number and the immediately succeeding prime number.  i.e.,  if $P_n$ refers to the $n^{th}$ prime number then $P_n$ is a balanced prime if $P_n$ = $(P_{n-1} + P_{n+1})/2$.  For example `5` is a balanced prime since `5 = (3+7)/2`.  Write a function `isBalancedPrime(x)` which takes an arbitrary positive integer `x` and returns `True` or `False` as to whether `x` is a balanced prime or not.  While you do need to write a complete definition for `isBalancedPrime` you do not need to write the code for any helper functions.  Just give meaningful names indicating what they should do. "
   ]
  },
  {
   "cell_type": "code",
   "execution_count": null,
   "id": "4f16be39-efb6-4fcb-8eda-260051dfd350",
   "metadata": {},
   "outputs": [],
   "source": []
  },
  {
   "cell_type": "markdown",
   "id": "07039cbb-e5ae-4f99-847d-51916d03a5f9",
   "metadata": {},
   "source": [
    "## Assignment"
   ]
  },
  {
   "attachments": {},
   "cell_type": "markdown",
   "id": "95796d5e-1536-4bc8-b728-e2aba68114ec",
   "metadata": {},
   "source": [
    "**Q3** An early probability question.  Some consider the following to be one of the early questions that led to the creation of the field of probability.  Which of the following two options (events) has a higher probability of occurrence:\n",
    "```  \n",
    "i.\troll a six in 4 throws of a dice \n",
    "ii.\troll a pair of sixes (6,6) in 24 throws of a pair of dice\n",
    "```\n",
    "Write the following functions:\n",
    "```\n",
    "a.\tdice() which randomly returns a number from [1, 6]\n",
    "\n",
    "b.\tsix_in_4() / simulates the successive rolling of a single die 4 times (which is equivalent to rolling 4 dice simultaneously once) and checks for the occurrence of a 6, returns True if a 6 occurs in the simulation and False otherwise\n",
    "\n",
    "c.\ttwo_six_in_24() / simulates the successive rolling of two dice 24 times and checks for the occurrence of a pair of simultaneous sixes (6,6). Returns True if a pair of 6s occur in the simulation and False if not.\n",
    "```\n",
    "\n",
    "Both <code>six_in_4</code> and <code>two_six_in_24</code> do a single simulation of that event.  Finally, write the function <code>prob_question(n=1000)</code> which will perform both of these simulations n times and returns the probability of occurrence of both events as a pair of numbers in a tuple in the order of ( i, ii ) where i is the probability of event i (see above).  Note that <code>prob_question</code> uses a keyword argument. Just <code>prob_question()</code> will perform the simulation 1000 times.  The expected answer will be close to <code>(0.5218, 0.4842)</code>\n"
   ]
  },
  {
   "cell_type": "code",
   "execution_count": 26,
   "id": "b1f2ec47-2f24-4a3d-b9f6-c056b89659e6",
   "metadata": {},
   "outputs": [
    {
     "data": {
      "text/plain": [
       "(0.5218, 0.4842)"
      ]
     },
     "execution_count": 26,
     "metadata": {},
     "output_type": "execute_result"
    }
   ],
   "source": [
    "import random\n",
    "\n",
    "def dice():\n",
    "    '''\n",
    "    Return a random integer from [1,6]\n",
    "    '''\n",
    "    return random.randint(1,6)\n",
    "    \n",
    "def six_in_4():\n",
    "    '''\n",
    "    Simulate the throwing of a single die 4 times.\n",
    "    Return 1 if you roll a six and a 0 otherwise.\n",
    "    '''\n",
    "    pass\n",
    "\n",
    "def two_six_in_24():\n",
    "    '''\n",
    "    Write a meaningful docstring\n",
    "    '''\n",
    "    pass\n",
    "\n",
    "# define prob_question\n",
    "\n",
    "prob_question()\n"
   ]
  },
  {
   "cell_type": "markdown",
   "id": "7f5ffcb6-df76-4ff1-beab-cf379bbe3da5",
   "metadata": {},
   "source": [
    "### Optional Bonus Question"
   ]
  },
  {
   "cell_type": "markdown",
   "id": "e78ff43b-3033-445a-94d9-36b798b7cc8c",
   "metadata": {},
   "source": [
    "Write code to simulate the Monty Hall puzzle. Refer to the slides for a refresher on the puzzle.\n",
    "\n",
    "Your output should give two numbers (i) the number of wins without switching and (ii) the number of wins with switching.  Think about how to decompose the solution.  "
   ]
  },
  {
   "cell_type": "code",
   "execution_count": null,
   "id": "827bd7b0-fc85-48ee-b98f-24e117229829",
   "metadata": {},
   "outputs": [],
   "source": []
  }
 ],
 "metadata": {
  "kernelspec": {
   "display_name": "Python 3 (ipykernel)",
   "language": "python",
   "name": "python3"
  },
  "language_info": {
   "codemirror_mode": {
    "name": "ipython",
    "version": 3
   },
   "file_extension": ".py",
   "mimetype": "text/x-python",
   "name": "python",
   "nbconvert_exporter": "python",
   "pygments_lexer": "ipython3",
   "version": "3.12.7"
  }
 },
 "nbformat": 4,
 "nbformat_minor": 5
}
